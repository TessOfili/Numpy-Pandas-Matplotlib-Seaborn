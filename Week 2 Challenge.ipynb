{
 "cells": [
  {
   "cell_type": "markdown",
   "id": "d0491531",
   "metadata": {},
   "source": [
    "# Week 2 Challenge\n",
    "\n",
    "* Numpy\n",
    "* Pandas\n",
    "* Matplotlib\n",
    "* Seaborn\n",
    "\n",
    "**Solution shoud be submitted in this Notebook**"
   ]
  },
  {
   "cell_type": "markdown",
   "id": "105d5f3b",
   "metadata": {},
   "source": [
    "### Data Science Libraries\n",
    "\n",
    "Create a brief write up on the various libraries and their components (Two examples):\n",
    "\n",
    "* Numpy:\n",
    "    - Brief write up on Numpy, \n",
    "    - Vector, Arrays, Matrices, Number Generation\n",
    "    - Built in methods in Numpy - arange, zeros, ones, linspace, eyes\n",
    "\n",
    "* Pandas: \n",
    "    - Brief write up on Pandas\n",
    "    - What is a Series, Creating a Series using List, Numpy Array and Dictionaries\n",
    "    - Filtering a Series\n",
    "    - What is a DataFrame, Creating a DataFrame using List and Dictionaries\n",
    "    - Filtering a DataFrame\n",
    "\n",
    "* Matplotlib\n",
    "    - Brief write up on Matplotlib\n",
    "    - Basic Plots\n",
    "    - Subplots\n",
    "    - Advanced Plots\n",
    "\n",
    "* Seaborn\n",
    "    - Brief write up on Seaborn\n",
    "    - Distribution Plot\n",
    "    - Categorical Plot\n",
    "    - Matrix Plot\n",
    "    - Grids\n",
    "    - Regression Plot\n",
    "    \n",
    "**Post Atleast two write ups on Medium and share the link below**\n",
    "please mention @10alytics and Efemena"
   ]
  },
  {
   "cell_type": "markdown",
   "id": "b2e0a153",
   "metadata": {},
   "source": [
    "# NUMPY\n",
    "\n",
    "\n",
    "NumPy is the core Python programming library for numerical scientific computation. It is used for quick tasks such as basic linear algebra, shape manipulation, sorting selection, and mathematical logic. Numpy is used to create numbers in dimension in python, just like puting numbers in rows and column in excel. Pandas, matplotlib, and the majority of scientific libraries rely on NumPy.NumPy is imported by using the formart\n",
    "\n",
    "            import numpy as np\n",
    "\n",
    "\n",
    "VECTOR:\n",
    "The building blocks of a vector are regular integers(numbers).\n",
    "A vector may be thought of as a list of numbers, and operations on the list of numbers are what vector algebra is.\n",
    "We use the np.array method to produce a vector. A vector is a single dimension.\n",
    "\n",
    "\n",
    "\n",
    "ARRAY:\n",
    "\n",
    "Numpy often contains numbers of the same type in a table. The dimension of the NumPy table is referred to as axes. The arrays are composed of axes. The NumPy ndarray class is used to represent both matrices and vectors, it has elements in n-dimension. The NumPy arrays are called with ndarray format. Arrays are used to store data\n",
    "\n",
    "Attributes of arrays includes : ndarry.ndim, ndarray.shape,  ndarray.size, ndarray.dtype ,ndarray.itemsize, ndarray.data\n",
    "\n",
    "\n",
    "MATRICE:\n",
    "Matrices have two dimensions and a table-like layout. It is made up of several equal-length vectors arranged in a table. The purpose of matrices is to transform data, for instance for addition, multiplication or transposing of data.\n",
    "\n",
    "\n",
    "NUMBER GENERATION:\n",
    "Number generation are algorithm generated random numbers."
   ]
  },
  {
   "cell_type": "code",
   "execution_count": null,
   "id": "efe7da9d",
   "metadata": {},
   "outputs": [],
   "source": []
  },
  {
   "cell_type": "markdown",
   "id": "47f6a0f3",
   "metadata": {},
   "source": [
    "### VECTOR\n"
   ]
  },
  {
   "cell_type": "code",
   "execution_count": 1,
   "id": "f150010e",
   "metadata": {},
   "outputs": [
    {
     "data": {
      "text/plain": [
       "array([1, 2, 3, 4, 5])"
      ]
     },
     "execution_count": 1,
     "metadata": {},
     "output_type": "execute_result"
    }
   ],
   "source": [
    "import numpy as np\n",
    "#Vector creation\n",
    "\n",
    "list = (1,2,3,4,5)\n",
    "vector= np.array(list)\n",
    "vector"
   ]
  },
  {
   "cell_type": "code",
   "execution_count": 2,
   "id": "b4a4431f",
   "metadata": {},
   "outputs": [
    {
     "name": "stdout",
     "output_type": "stream",
     "text": [
      "(5,)\n",
      "int32\n",
      "1\n",
      "5\n"
     ]
    }
   ],
   "source": [
    "#Attributes of a vector\n",
    "\n",
    "print(vector.shape)  #shows the dimension of vector\n",
    "\n",
    "print(vector.dtype)  #shows the type of the elements in the vector\n",
    "\n",
    "print(vector.ndim) # shows the dimension of the vector which is usually a 1-dimension\n",
    "\n",
    "print(vector.size) #counts the number of elements in the vector\n"
   ]
  },
  {
   "cell_type": "markdown",
   "id": "2529cbff",
   "metadata": {},
   "source": [
    "### ARRARY"
   ]
  },
  {
   "cell_type": "code",
   "execution_count": 3,
   "id": "7d9a20b7",
   "metadata": {},
   "outputs": [
    {
     "name": "stdout",
     "output_type": "stream",
     "text": [
      "[0 1 2 3 4]\n",
      "[[ 0  1  2]\n",
      " [ 3  4  5]\n",
      " [ 6  7  8]\n",
      " [ 9 10 11]]\n",
      "[[[ 0  1  2  3]\n",
      "  [ 4  5  6  7]\n",
      "  [ 8  9 10 11]]\n",
      "\n",
      " [[12 13 14 15]\n",
      "  [16 17 18 19]\n",
      "  [20 21 22 23]]]\n",
      "[ 1  4  7 10 13 16 19 22 25 28 31 34 37]\n"
     ]
    }
   ],
   "source": [
    "#Arrary creation.\n",
    "\n",
    "#1. using the arange method\n",
    "arr1 = np.arange(5)  #1-dimension\n",
    "\n",
    "print(arr1)\n",
    "\n",
    "arr2 = np.arange(12).reshape(4,3) #2-dimension array, note (r,c), where r represents the row and c the column\n",
    "\n",
    "print(arr2)\n",
    "\n",
    "arr3 = np.arange(24).reshape(2,3,4) #3-dimension\n",
    "\n",
    "print(arr3)\n",
    "\n",
    "arr_jump = np.arange(1,40,3) # start from 1 end in 40, jump in 3\n",
    "\n",
    "print(arr_jump)\n",
    "\n",
    "\n",
    "\n"
   ]
  },
  {
   "cell_type": "code",
   "execution_count": 4,
   "id": "5730af7d",
   "metadata": {},
   "outputs": [
    {
     "name": "stdout",
     "output_type": "stream",
     "text": [
      "[0. 0. 0. 0. 0.]\n",
      "[[0. 0. 0.]\n",
      " [0. 0. 0.]]\n",
      "[[[0. 0. 0. 0.]\n",
      "  [0. 0. 0. 0.]\n",
      "  [0. 0. 0. 0.]]\n",
      "\n",
      " [[0. 0. 0. 0.]\n",
      "  [0. 0. 0. 0.]\n",
      "  [0. 0. 0. 0.]]]\n"
     ]
    }
   ],
   "source": [
    "#2. using the zeros method, zeros function returns a new array of given shape and type, with zeros\n",
    "\n",
    "arr_zero =np.zeros(5)   #1-dimension\n",
    "print(arr_zero)\n",
    "\n",
    "arr_zero1 =np.zeros((2,3))  #2-dimension\n",
    "print(arr_zero1)\n",
    "\n",
    "arr_zero2 =np.zeros((2,3,4))  #3-dimension\n",
    "print(arr_zero2)\n",
    "\n"
   ]
  },
  {
   "cell_type": "code",
   "execution_count": 5,
   "id": "c88b5e0d",
   "metadata": {},
   "outputs": [
    {
     "name": "stdout",
     "output_type": "stream",
     "text": [
      "[1. 1. 1. 1. 1.]\n",
      "[[1. 1. 1.]\n",
      " [1. 1. 1.]]\n",
      "[[[1. 1. 1.]\n",
      "  [1. 1. 1.]\n",
      "  [1. 1. 1.]\n",
      "  [1. 1. 1.]]\n",
      "\n",
      " [[1. 1. 1.]\n",
      "  [1. 1. 1.]\n",
      "  [1. 1. 1.]\n",
      "  [1. 1. 1.]]]\n"
     ]
    }
   ],
   "source": [
    "#3. using the ones method, ones function returns a new array of given shape and type, with ones.\n",
    "\n",
    "arr_one =np.ones(5)     #1-dimension\n",
    "print(arr_one)\n",
    "\n",
    "arr_one1 =np.ones((2,3))    #2-dimension\n",
    "print(arr_one1)\n",
    "\n",
    "arr_one2 =np.ones((2,4,3))   #3-dimension\n",
    "print(arr_one2)"
   ]
  },
  {
   "cell_type": "code",
   "execution_count": 6,
   "id": "a9d622c4",
   "metadata": {},
   "outputs": [
    {
     "name": "stdout",
     "output_type": "stream",
     "text": [
      "[0.   0.25 0.5  0.75 1.  ]\n",
      "[ 0. 10.]\n",
      "[ 0. 20.]\n",
      "[0.  2.5 5.  7.5]\n"
     ]
    }
   ],
   "source": [
    "#4. using the linspace method\n",
    "#linspace used for equally paced value within number\n",
    "#(x,y,z), where x is the begining no,y is the last no, and z is the number used to divide into equal parts\n",
    "\n",
    "arr_lin =np.linspace(0,1,5)     \n",
    "print(arr_lin)\n",
    "\n",
    "arr_lin1 =np.linspace(0,10,2)   \n",
    "print(arr_lin1)\n",
    "\n",
    "arr_lin2 = np.linspace(0, 20, 2, True)   #true means print to the last number\n",
    "print(arr_lin2)\n",
    "\n",
    "arr_lin3 = np.linspace(0, 10, 4, False)   #false means dont print to the last number\n",
    "print(arr_lin3)"
   ]
  },
  {
   "cell_type": "code",
   "execution_count": 7,
   "id": "bebe0819",
   "metadata": {},
   "outputs": [
    {
     "data": {
      "text/plain": [
       "array([[1., 0., 0., 0., 0., 0., 0., 0.],\n",
       "       [0., 1., 0., 0., 0., 0., 0., 0.],\n",
       "       [0., 0., 1., 0., 0., 0., 0., 0.],\n",
       "       [0., 0., 0., 1., 0., 0., 0., 0.],\n",
       "       [0., 0., 0., 0., 1., 0., 0., 0.],\n",
       "       [0., 0., 0., 0., 0., 1., 0., 0.],\n",
       "       [0., 0., 0., 0., 0., 0., 1., 0.],\n",
       "       [0., 0., 0., 0., 0., 0., 0., 1.]])"
      ]
     },
     "execution_count": 7,
     "metadata": {},
     "output_type": "execute_result"
    }
   ],
   "source": [
    "#5. using the eyes method, zeros function returns ones diagonally in rows by  new indicated in the column\n",
    "\n",
    "np.eye(8, 8)\n"
   ]
  },
  {
   "cell_type": "code",
   "execution_count": 8,
   "id": "d0dab0dd",
   "metadata": {},
   "outputs": [
    {
     "data": {
      "text/plain": [
       "array([[0., 0., 1., 0.],\n",
       "       [0., 0., 0., 1.],\n",
       "       [0., 0., 0., 0.],\n",
       "       [0., 0., 0., 0.],\n",
       "       [0., 0., 0., 0.],\n",
       "       [0., 0., 0., 0.],\n",
       "       [0., 0., 0., 0.],\n",
       "       [0., 0., 0., 0.]])"
      ]
     },
     "execution_count": 8,
     "metadata": {},
     "output_type": "execute_result"
    }
   ],
   "source": [
    "#skip using the eye\n",
    "\n",
    "np.eye(8, 4, k=2) #k allows you to skip the column by the number indicated"
   ]
  },
  {
   "cell_type": "markdown",
   "id": "cd4df474",
   "metadata": {},
   "source": [
    "### MATRICE"
   ]
  },
  {
   "cell_type": "code",
   "execution_count": 70,
   "id": "23a20a0b",
   "metadata": {},
   "outputs": [
    {
     "name": "stdout",
     "output_type": "stream",
     "text": [
      "[[2 3 4]\n",
      " [5 6 7]]\n"
     ]
    }
   ],
   "source": [
    "#using numpy arrays to create a matrice\n",
    "\n",
    "list1 = np.array([2,3,4])\n",
    "list2 = np.array([5,6,7])\n",
    "matrix = np.matrix([list1,list2])\n",
    "print(matrix)"
   ]
  },
  {
   "cell_type": "code",
   "execution_count": 86,
   "id": "3ed0adfa",
   "metadata": {},
   "outputs": [
    {
     "name": "stdout",
     "output_type": "stream",
     "text": [
      "56\n",
      "[ 7  9 11]\n",
      "[3 3 3]\n",
      "[2.5  2.   1.75]\n"
     ]
    }
   ],
   "source": [
    "#functions on matrice\n",
    "\n",
    "matrix1 = list1.dot(list2)                  # multiplication\n",
    "print(matrix1)\n",
    "\n",
    "matrix2 = (np.add(list1,list2))             # addition\n",
    "print(matrix2)\n",
    "\n",
    "matrix3 = (np.subtract(list2,list1))         # subtract\n",
    "print(matrix3)\n",
    "\n",
    "matrix4 =(np.divide(list2,list1))          # divide\n",
    "print(matrix4)"
   ]
  },
  {
   "cell_type": "markdown",
   "id": "28b829fb",
   "metadata": {},
   "source": [
    "### NUMBER GENERATION "
   ]
  },
  {
   "cell_type": "code",
   "execution_count": 9,
   "id": "1ac99677",
   "metadata": {},
   "outputs": [
    {
     "name": "stdout",
     "output_type": "stream",
     "text": [
      "0.854799270161854\n"
     ]
    }
   ],
   "source": [
    "from numpy import random\n",
    "\n",
    "x = random.rand()\n",
    "\n",
    "print(x)"
   ]
  },
  {
   "cell_type": "code",
   "execution_count": 10,
   "id": "73f25e2e",
   "metadata": {},
   "outputs": [
    {
     "name": "stdout",
     "output_type": "stream",
     "text": [
      "[[0.74460975 0.26880894 0.72031758 0.79019909 0.23815184]\n",
      " [0.16132946 0.94550424 0.84621245 0.34459348 0.55861272]\n",
      " [0.64447623 0.40931201 0.80031652 0.91531339 0.19693839]]\n"
     ]
    }
   ],
   "source": [
    "#using random numbers from array\n",
    "\n",
    "\n",
    "x =random.rand(3,5)\n",
    "\n",
    "print(x)"
   ]
  },
  {
   "cell_type": "code",
   "execution_count": 11,
   "id": "362ba57c",
   "metadata": {},
   "outputs": [
    {
     "name": "stdout",
     "output_type": "stream",
     "text": [
      "[0.3883039  0.90685722 0.72467105]\n"
     ]
    }
   ],
   "source": [
    "# generate 3 random number from vector\n",
    "\n",
    "x = random.rand(3)\n",
    "\n",
    "print(x)"
   ]
  },
  {
   "cell_type": "markdown",
   "id": "dd8cece9",
   "metadata": {},
   "source": [
    "# PANDAS\n",
    "\n",
    "Pandas is a python library used to examine, clean, modify, and analyze data that is organized in a tabular format called a DataFrame. Using Pandas, we can clean up large amounts of data and get meaningful insights from the data's statistical theory.\n",
    "Pandas is imported by using the formart\n",
    "          import pandas as pd\n",
    "\n",
    "## Series\n",
    "A pandas Series is a list of data in a row with one single column.It's a one-dimensional, labelled data structure that can store Python objects as well as other types of data, like texts and numbers. It is the main data structure used by Pandas to store one-dimensional data and is modeled on the Numpy array.\n",
    " \n",
    " A pandas Series may be built in Python by using the format.  pd.Series()\n",
    " \n",
    "Syntax Output\n",
    "\n",
    "pandas.Series(data=None, index=None, dtype=None, name=None, copy=False)\n",
    "\n",
    "\n",
    "\n"
   ]
  },
  {
   "cell_type": "markdown",
   "id": "75613cc3",
   "metadata": {},
   "source": [
    "# Creating Series"
   ]
  },
  {
   "cell_type": "code",
   "execution_count": 12,
   "id": "cb652302",
   "metadata": {},
   "outputs": [
    {
     "name": "stdout",
     "output_type": "stream",
     "text": [
      "0         Texas\n",
      "1     Califonia\n",
      "2       Chicago\n",
      "3          Ohia\n",
      "4    New Jersey\n",
      "5      New York\n",
      "6      Maryland\n",
      "dtype: object\n"
     ]
    }
   ],
   "source": [
    "import pandas as pd\n",
    "\n",
    "# creating series using list, a list is created and passed through the series\n",
    "\n",
    "list = ['Texas','Califonia', 'Chicago', 'Ohia', 'New Jersey', 'New York', 'Maryland']\n",
    "        \n",
    "series =pd.Series(list)      \n",
    "\n",
    "print(series)\n"
   ]
  },
  {
   "cell_type": "code",
   "execution_count": 13,
   "id": "7fb73414",
   "metadata": {},
   "outputs": [
    {
     "name": "stdout",
     "output_type": "stream",
     "text": [
      "city1         Texas\n",
      "city2     Califonia\n",
      "city3       Chicago\n",
      "city4          Ohia\n",
      "city5    New Jersey\n",
      "city6      New York\n",
      "city7      Maryland\n",
      "Name: Cities in USA, dtype: object\n"
     ]
    }
   ],
   "source": [
    "#assigning an elements to index, and giving it a name\n",
    "\n",
    "series_index_ass = pd.Series(data = list, index=['city1', 'city2','city3','city4','city5','city6','city7'], name='Cities in USA') \n",
    "\n",
    "print(series_index_ass)"
   ]
  },
  {
   "cell_type": "code",
   "execution_count": 14,
   "id": "d41e9a24",
   "metadata": {},
   "outputs": [
    {
     "name": "stdout",
     "output_type": "stream",
     "text": [
      "city1        Texas\n",
      "city2    Califonia\n",
      "Name: Cities in USA, dtype: object\n"
     ]
    }
   ],
   "source": [
    "#accessing series\n",
    "print(series_index_ass[0:2])"
   ]
  },
  {
   "cell_type": "code",
   "execution_count": 15,
   "id": "81c3e0c7",
   "metadata": {},
   "outputs": [
    {
     "data": {
      "text/plain": [
       "0         Texas\n",
       "1     Califonia\n",
       "2       Chicago\n",
       "3          Ohia\n",
       "4    New Jersey\n",
       "5      New York\n",
       "6      Maryland\n",
       "dtype: object"
      ]
     },
     "execution_count": 15,
     "metadata": {},
     "output_type": "execute_result"
    }
   ],
   "source": [
    "# create series using numpy array, \n",
    "data_array = np.array(['Texas','Califonia', 'Chicago', 'Ohia', 'New Jersey', 'New York', 'Maryland'])\n",
    "series_array = pd.Series(data_array)\n",
    "series_array"
   ]
  },
  {
   "cell_type": "code",
   "execution_count": 16,
   "id": "9a13f586",
   "metadata": {},
   "outputs": [
    {
     "name": "stdout",
     "output_type": "stream",
     "text": [
      "0        Texas\n",
      "1    Califonia\n",
      "dtype: object\n"
     ]
    }
   ],
   "source": [
    "#accessing series\n",
    "print(series_array[0:2])"
   ]
  },
  {
   "cell_type": "code",
   "execution_count": 17,
   "id": "e399e6a9",
   "metadata": {},
   "outputs": [
    {
     "data": {
      "text/plain": [
       "1         Texas\n",
       "2     Califonia\n",
       "3       Chicago\n",
       "4          Ohia\n",
       "5    New Jersey\n",
       "6      New York\n",
       "7      Maryland\n",
       "dtype: object"
      ]
     },
     "execution_count": 17,
     "metadata": {},
     "output_type": "execute_result"
    }
   ],
   "source": [
    "# create series using dictionary, \n",
    "dic = {1:'Texas', 2:'Califonia', 3:'Chicago', 4:'Ohia', 5:'New Jersey',6: 'New York', 7:'Maryland'}\n",
    "series_dic =pd.Series(dic)\n",
    "series_dic"
   ]
  },
  {
   "cell_type": "code",
   "execution_count": 18,
   "id": "d2ea1377",
   "metadata": {},
   "outputs": [
    {
     "name": "stdout",
     "output_type": "stream",
     "text": [
      "1        Texas\n",
      "2    Califonia\n",
      "dtype: object\n"
     ]
    }
   ],
   "source": [
    "#accessing series\n",
    "print(series_dic[0:2])"
   ]
  },
  {
   "cell_type": "markdown",
   "id": "4f05d58d",
   "metadata": {},
   "source": [
    "# filtering series"
   ]
  },
  {
   "cell_type": "code",
   "execution_count": 19,
   "id": "07ec4335",
   "metadata": {},
   "outputs": [
    {
     "name": "stdout",
     "output_type": "stream",
     "text": [
      "1         Texas\n",
      "2     Califonia\n",
      "3       Chicago\n",
      "4          Ohia\n",
      "5    New Jersey\n",
      "6      New York\n",
      "7      Maryland\n",
      "dtype: object\n"
     ]
    },
    {
     "data": {
      "text/plain": [
       "'Texas'"
      ]
     },
     "execution_count": 19,
     "metadata": {},
     "output_type": "execute_result"
    }
   ],
   "source": [
    "#Filter a Series by index with iloc, iloc locates the position of the elements\n",
    "\n",
    "print(series_dic)\n",
    "\n",
    "\n",
    "series_dic.iloc[0]"
   ]
  },
  {
   "cell_type": "code",
   "execution_count": 20,
   "id": "d6a5530f",
   "metadata": {},
   "outputs": [
    {
     "data": {
      "text/plain": [
       "1"
      ]
     },
     "execution_count": 20,
     "metadata": {},
     "output_type": "execute_result"
    }
   ],
   "source": [
    "#Filter a Series by label with loc\n",
    "\n",
    "job_level = pd.Series({'john': 1, 'mary': 2, 'peter': 1, 'daniel': 3, 'faith': 2})\n",
    "job_level.loc['john']"
   ]
  },
  {
   "cell_type": "code",
   "execution_count": 21,
   "id": "5823d2f0",
   "metadata": {},
   "outputs": [
    {
     "data": {
      "text/plain": [
       "john     1\n",
       "peter    1\n",
       "dtype: int64"
      ]
     },
     "execution_count": 21,
     "metadata": {},
     "output_type": "execute_result"
    }
   ],
   "source": [
    "#Filter a Series by value will give you all results for the condition\n",
    "\n",
    "job_level = pd.Series({'john': 1, 'mary': 2, 'peter': 1, 'daniel': 3, 'faith': 2})\n",
    "job_level\n",
    "job_level[job_level==1]"
   ]
  },
  {
   "cell_type": "markdown",
   "id": "e5f364e5",
   "metadata": {},
   "source": [
    "## DataFrame\n",
    "A pandas DataFrame is a list of data with serveral rows and serveral column.DataFrame contains multiple of series.Data are put in row and column in a tabular form and arithematical operations can be performed on them.A pandas DataFrame may be built in Python by using the format. pd.DataFrame()\n",
    "\n",
    "Syntax Output\n",
    "\n",
    "\n",
    "pandas.DataFrame( data, index, columns, dtype)\n",
    "\n"
   ]
  },
  {
   "cell_type": "markdown",
   "id": "d6abf3a0",
   "metadata": {},
   "source": [
    "## Creating a DataFrame using List and Dictionaries\n"
   ]
  },
  {
   "cell_type": "code",
   "execution_count": 22,
   "id": "f947a0c4",
   "metadata": {},
   "outputs": [
    {
     "data": {
      "text/html": [
       "<div>\n",
       "<style scoped>\n",
       "    .dataframe tbody tr th:only-of-type {\n",
       "        vertical-align: middle;\n",
       "    }\n",
       "\n",
       "    .dataframe tbody tr th {\n",
       "        vertical-align: top;\n",
       "    }\n",
       "\n",
       "    .dataframe thead th {\n",
       "        text-align: right;\n",
       "    }\n",
       "</style>\n",
       "<table border=\"1\" class=\"dataframe\">\n",
       "  <thead>\n",
       "    <tr style=\"text-align: right;\">\n",
       "      <th></th>\n",
       "      <th>0</th>\n",
       "    </tr>\n",
       "  </thead>\n",
       "  <tbody>\n",
       "    <tr>\n",
       "      <th>0</th>\n",
       "      <td>Texas</td>\n",
       "    </tr>\n",
       "    <tr>\n",
       "      <th>1</th>\n",
       "      <td>Califonia</td>\n",
       "    </tr>\n",
       "    <tr>\n",
       "      <th>2</th>\n",
       "      <td>Chicago</td>\n",
       "    </tr>\n",
       "    <tr>\n",
       "      <th>3</th>\n",
       "      <td>Ohia</td>\n",
       "    </tr>\n",
       "    <tr>\n",
       "      <th>4</th>\n",
       "      <td>New Jersey</td>\n",
       "    </tr>\n",
       "    <tr>\n",
       "      <th>5</th>\n",
       "      <td>New York</td>\n",
       "    </tr>\n",
       "    <tr>\n",
       "      <th>6</th>\n",
       "      <td>Maryland</td>\n",
       "    </tr>\n",
       "  </tbody>\n",
       "</table>\n",
       "</div>"
      ],
      "text/plain": [
       "            0\n",
       "0       Texas\n",
       "1   Califonia\n",
       "2     Chicago\n",
       "3        Ohia\n",
       "4  New Jersey\n",
       "5    New York\n",
       "6    Maryland"
      ]
     },
     "execution_count": 22,
     "metadata": {},
     "output_type": "execute_result"
    }
   ],
   "source": [
    "#DataFrame using series\n",
    "\n",
    "list = ['Texas','Califonia', 'Chicago', 'Ohia', 'New Jersey', 'New York', 'Maryland']\n",
    "\n",
    "df_list =pd.DataFrame(list)\n",
    "df_list"
   ]
  },
  {
   "cell_type": "code",
   "execution_count": 23,
   "id": "f9063751",
   "metadata": {},
   "outputs": [
    {
     "data": {
      "text/html": [
       "<div>\n",
       "<style scoped>\n",
       "    .dataframe tbody tr th:only-of-type {\n",
       "        vertical-align: middle;\n",
       "    }\n",
       "\n",
       "    .dataframe tbody tr th {\n",
       "        vertical-align: top;\n",
       "    }\n",
       "\n",
       "    .dataframe thead th {\n",
       "        text-align: right;\n",
       "    }\n",
       "</style>\n",
       "<table border=\"1\" class=\"dataframe\">\n",
       "  <thead>\n",
       "    <tr style=\"text-align: right;\">\n",
       "      <th></th>\n",
       "      <th>1</th>\n",
       "      <th>2</th>\n",
       "      <th>3</th>\n",
       "      <th>4</th>\n",
       "      <th>5</th>\n",
       "      <th>6</th>\n",
       "      <th>7</th>\n",
       "    </tr>\n",
       "  </thead>\n",
       "  <tbody>\n",
       "    <tr>\n",
       "      <th>0</th>\n",
       "      <td>Texas</td>\n",
       "      <td>Califonia</td>\n",
       "      <td>Chicago</td>\n",
       "      <td>Ohia</td>\n",
       "      <td>New Jersey</td>\n",
       "      <td>New York</td>\n",
       "      <td>Maryland</td>\n",
       "    </tr>\n",
       "  </tbody>\n",
       "</table>\n",
       "</div>"
      ],
      "text/plain": [
       "       1          2        3     4           5         6         7\n",
       "0  Texas  Califonia  Chicago  Ohia  New Jersey  New York  Maryland"
      ]
     },
     "execution_count": 23,
     "metadata": {},
     "output_type": "execute_result"
    }
   ],
   "source": [
    "#DataFrame using dictionaries\n",
    "\n",
    "dic = [{1:'Texas', 2:'Califonia', 3:'Chicago', 4:'Ohia', 5:'New Jersey',6: 'New York', 7:'Maryland'}]\n",
    "df_dic = pd.DataFrame(dic )\n",
    "\n",
    "df_dic"
   ]
  },
  {
   "cell_type": "code",
   "execution_count": 24,
   "id": "6d62c2e4",
   "metadata": {},
   "outputs": [
    {
     "data": {
      "text/html": [
       "<div>\n",
       "<style scoped>\n",
       "    .dataframe tbody tr th:only-of-type {\n",
       "        vertical-align: middle;\n",
       "    }\n",
       "\n",
       "    .dataframe tbody tr th {\n",
       "        vertical-align: top;\n",
       "    }\n",
       "\n",
       "    .dataframe thead th {\n",
       "        text-align: right;\n",
       "    }\n",
       "</style>\n",
       "<table border=\"1\" class=\"dataframe\">\n",
       "  <thead>\n",
       "    <tr style=\"text-align: right;\">\n",
       "      <th></th>\n",
       "      <th>names</th>\n",
       "      <th>level</th>\n",
       "      <th>age</th>\n",
       "    </tr>\n",
       "  </thead>\n",
       "  <tbody>\n",
       "    <tr>\n",
       "      <th>0</th>\n",
       "      <td>john</td>\n",
       "      <td>1</td>\n",
       "      <td>27</td>\n",
       "    </tr>\n",
       "    <tr>\n",
       "      <th>1</th>\n",
       "      <td>mary</td>\n",
       "      <td>3</td>\n",
       "      <td>35</td>\n",
       "    </tr>\n",
       "    <tr>\n",
       "      <th>2</th>\n",
       "      <td>peter</td>\n",
       "      <td>2</td>\n",
       "      <td>30</td>\n",
       "    </tr>\n",
       "    <tr>\n",
       "      <th>3</th>\n",
       "      <td>daniel</td>\n",
       "      <td>4</td>\n",
       "      <td>42</td>\n",
       "    </tr>\n",
       "    <tr>\n",
       "      <th>4</th>\n",
       "      <td>faith</td>\n",
       "      <td>2</td>\n",
       "      <td>30</td>\n",
       "    </tr>\n",
       "  </tbody>\n",
       "</table>\n",
       "</div>"
      ],
      "text/plain": [
       "    names  level  age\n",
       "0    john      1   27\n",
       "1    mary      3   35\n",
       "2   peter      2   30\n",
       "3  daniel      4   42\n",
       "4   faith      2   30"
      ]
     },
     "execution_count": 24,
     "metadata": {},
     "output_type": "execute_result"
    }
   ],
   "source": [
    "#DataFrame using dictionaries \n",
    "emp = {'names': ['john', 'mary', 'peter', 'daniel', 'faith'],\n",
    "                 'level':[1,3,2,4,2],\n",
    "                   'age':[27,35,30,42,30]}\n",
    "\n",
    "df_emp = pd.DataFrame(emp)\n",
    "df_emp"
   ]
  },
  {
   "cell_type": "markdown",
   "id": "52af34e2",
   "metadata": {},
   "source": [
    "## filtering DataFrame"
   ]
  },
  {
   "cell_type": "code",
   "execution_count": 25,
   "id": "418a3659",
   "metadata": {},
   "outputs": [
    {
     "data": {
      "text/plain": [
       "0      john\n",
       "1      mary\n",
       "2     peter\n",
       "3    daniel\n",
       "4     faith\n",
       "Name: names, dtype: object"
      ]
     },
     "execution_count": 25,
     "metadata": {},
     "output_type": "execute_result"
    }
   ],
   "source": [
    "#filtering by a column\n",
    "\n",
    "\n",
    "df_name = df_emp['names']\n",
    "df_name"
   ]
  },
  {
   "cell_type": "code",
   "execution_count": 26,
   "id": "5fed2af2",
   "metadata": {},
   "outputs": [
    {
     "data": {
      "text/html": [
       "<div>\n",
       "<style scoped>\n",
       "    .dataframe tbody tr th:only-of-type {\n",
       "        vertical-align: middle;\n",
       "    }\n",
       "\n",
       "    .dataframe tbody tr th {\n",
       "        vertical-align: top;\n",
       "    }\n",
       "\n",
       "    .dataframe thead th {\n",
       "        text-align: right;\n",
       "    }\n",
       "</style>\n",
       "<table border=\"1\" class=\"dataframe\">\n",
       "  <thead>\n",
       "    <tr style=\"text-align: right;\">\n",
       "      <th></th>\n",
       "      <th>names</th>\n",
       "      <th>level</th>\n",
       "    </tr>\n",
       "  </thead>\n",
       "  <tbody>\n",
       "    <tr>\n",
       "      <th>0</th>\n",
       "      <td>john</td>\n",
       "      <td>1</td>\n",
       "    </tr>\n",
       "    <tr>\n",
       "      <th>1</th>\n",
       "      <td>mary</td>\n",
       "      <td>3</td>\n",
       "    </tr>\n",
       "    <tr>\n",
       "      <th>2</th>\n",
       "      <td>peter</td>\n",
       "      <td>2</td>\n",
       "    </tr>\n",
       "    <tr>\n",
       "      <th>3</th>\n",
       "      <td>daniel</td>\n",
       "      <td>4</td>\n",
       "    </tr>\n",
       "    <tr>\n",
       "      <th>4</th>\n",
       "      <td>faith</td>\n",
       "      <td>2</td>\n",
       "    </tr>\n",
       "  </tbody>\n",
       "</table>\n",
       "</div>"
      ],
      "text/plain": [
       "    names  level\n",
       "0    john      1\n",
       "1    mary      3\n",
       "2   peter      2\n",
       "3  daniel      4\n",
       "4   faith      2"
      ]
     },
     "execution_count": 26,
     "metadata": {},
     "output_type": "execute_result"
    }
   ],
   "source": [
    "#filter for more than one column\n",
    "\n",
    "df2 = df_emp[['names','level']]\n",
    "\n",
    "df2"
   ]
  },
  {
   "cell_type": "code",
   "execution_count": 27,
   "id": "a792e8c6",
   "metadata": {},
   "outputs": [
    {
     "data": {
      "text/html": [
       "<div>\n",
       "<style scoped>\n",
       "    .dataframe tbody tr th:only-of-type {\n",
       "        vertical-align: middle;\n",
       "    }\n",
       "\n",
       "    .dataframe tbody tr th {\n",
       "        vertical-align: top;\n",
       "    }\n",
       "\n",
       "    .dataframe thead th {\n",
       "        text-align: right;\n",
       "    }\n",
       "</style>\n",
       "<table border=\"1\" class=\"dataframe\">\n",
       "  <thead>\n",
       "    <tr style=\"text-align: right;\">\n",
       "      <th></th>\n",
       "      <th>names</th>\n",
       "      <th>level</th>\n",
       "      <th>age</th>\n",
       "    </tr>\n",
       "  </thead>\n",
       "  <tbody>\n",
       "    <tr>\n",
       "      <th>1</th>\n",
       "      <td>mary</td>\n",
       "      <td>3</td>\n",
       "      <td>35</td>\n",
       "    </tr>\n",
       "    <tr>\n",
       "      <th>3</th>\n",
       "      <td>daniel</td>\n",
       "      <td>4</td>\n",
       "      <td>42</td>\n",
       "    </tr>\n",
       "  </tbody>\n",
       "</table>\n",
       "</div>"
      ],
      "text/plain": [
       "    names  level  age\n",
       "1    mary      3   35\n",
       "3  daniel      4   42"
      ]
     },
     "execution_count": 27,
     "metadata": {},
     "output_type": "execute_result"
    }
   ],
   "source": [
    "#filtering by a given condition\n",
    "\n",
    "\n",
    "\n",
    "df_empcond = df_emp[df_emp['level'] > 2]\n",
    "\n",
    "\n",
    "df_empcond\n"
   ]
  },
  {
   "cell_type": "code",
   "execution_count": 28,
   "id": "477ff122",
   "metadata": {},
   "outputs": [
    {
     "data": {
      "text/html": [
       "<div>\n",
       "<style scoped>\n",
       "    .dataframe tbody tr th:only-of-type {\n",
       "        vertical-align: middle;\n",
       "    }\n",
       "\n",
       "    .dataframe tbody tr th {\n",
       "        vertical-align: top;\n",
       "    }\n",
       "\n",
       "    .dataframe thead th {\n",
       "        text-align: right;\n",
       "    }\n",
       "</style>\n",
       "<table border=\"1\" class=\"dataframe\">\n",
       "  <thead>\n",
       "    <tr style=\"text-align: right;\">\n",
       "      <th></th>\n",
       "      <th>names</th>\n",
       "      <th>level</th>\n",
       "      <th>age</th>\n",
       "    </tr>\n",
       "  </thead>\n",
       "  <tbody>\n",
       "    <tr>\n",
       "      <th>0</th>\n",
       "      <td>john</td>\n",
       "      <td>1</td>\n",
       "      <td>27</td>\n",
       "    </tr>\n",
       "    <tr>\n",
       "      <th>2</th>\n",
       "      <td>peter</td>\n",
       "      <td>2</td>\n",
       "      <td>30</td>\n",
       "    </tr>\n",
       "    <tr>\n",
       "      <th>4</th>\n",
       "      <td>faith</td>\n",
       "      <td>2</td>\n",
       "      <td>30</td>\n",
       "    </tr>\n",
       "  </tbody>\n",
       "</table>\n",
       "</div>"
      ],
      "text/plain": [
       "   names  level  age\n",
       "0   john      1   27\n",
       "2  peter      2   30\n",
       "4  faith      2   30"
      ]
     },
     "execution_count": 28,
     "metadata": {},
     "output_type": "execute_result"
    }
   ],
   "source": [
    "#filtering baised on multiple conditions\n",
    "\n",
    "df_empcon2 = df_emp[(df_emp['level'] < 3) & (df_emp[\"age\"] < 40)]\n",
    "df_empcon2"
   ]
  },
  {
   "cell_type": "code",
   "execution_count": 29,
   "id": "43aa5e49",
   "metadata": {},
   "outputs": [
    {
     "data": {
      "text/plain": [
       "names    john\n",
       "level       1\n",
       "age        27\n",
       "Name: 0, dtype: object"
      ]
     },
     "execution_count": 29,
     "metadata": {},
     "output_type": "execute_result"
    }
   ],
   "source": [
    "#filtering by iloc, iloc allows us access data by using intergers in the row base on the position(count position) of the data\n",
    "\n",
    "df_emp.iloc[0]"
   ]
  },
  {
   "cell_type": "code",
   "execution_count": 30,
   "id": "13909791",
   "metadata": {},
   "outputs": [
    {
     "data": {
      "text/html": [
       "<div>\n",
       "<style scoped>\n",
       "    .dataframe tbody tr th:only-of-type {\n",
       "        vertical-align: middle;\n",
       "    }\n",
       "\n",
       "    .dataframe tbody tr th {\n",
       "        vertical-align: top;\n",
       "    }\n",
       "\n",
       "    .dataframe thead th {\n",
       "        text-align: right;\n",
       "    }\n",
       "</style>\n",
       "<table border=\"1\" class=\"dataframe\">\n",
       "  <thead>\n",
       "    <tr style=\"text-align: right;\">\n",
       "      <th></th>\n",
       "      <th>names</th>\n",
       "      <th>level</th>\n",
       "      <th>age</th>\n",
       "    </tr>\n",
       "  </thead>\n",
       "  <tbody>\n",
       "    <tr>\n",
       "      <th>0</th>\n",
       "      <td>john</td>\n",
       "      <td>1</td>\n",
       "      <td>27</td>\n",
       "    </tr>\n",
       "    <tr>\n",
       "      <th>1</th>\n",
       "      <td>mary</td>\n",
       "      <td>3</td>\n",
       "      <td>35</td>\n",
       "    </tr>\n",
       "  </tbody>\n",
       "</table>\n",
       "</div>"
      ],
      "text/plain": [
       "  names  level  age\n",
       "0  john      1   27\n",
       "1  mary      3   35"
      ]
     },
     "execution_count": 30,
     "metadata": {},
     "output_type": "execute_result"
    }
   ],
   "source": [
    "#filtering by iloc for multiple row\n",
    "\n",
    "df_emp.iloc[[0,1]]"
   ]
  },
  {
   "cell_type": "code",
   "execution_count": 31,
   "id": "29ef14cb",
   "metadata": {},
   "outputs": [
    {
     "data": {
      "text/plain": [
       "0    27\n",
       "1    35\n",
       "Name: age, dtype: int64"
      ]
     },
     "execution_count": 31,
     "metadata": {},
     "output_type": "execute_result"
    }
   ],
   "source": [
    "#filtering by iloc for aceessing row for a particular column\n",
    "\n",
    "df_emp.iloc[[0,1],2] #this accesed the age for rows 1 and 2"
   ]
  },
  {
   "cell_type": "code",
   "execution_count": 32,
   "id": "1fdaaf9e",
   "metadata": {},
   "outputs": [
    {
     "data": {
      "text/html": [
       "<div>\n",
       "<style scoped>\n",
       "    .dataframe tbody tr th:only-of-type {\n",
       "        vertical-align: middle;\n",
       "    }\n",
       "\n",
       "    .dataframe tbody tr th {\n",
       "        vertical-align: top;\n",
       "    }\n",
       "\n",
       "    .dataframe thead th {\n",
       "        text-align: right;\n",
       "    }\n",
       "</style>\n",
       "<table border=\"1\" class=\"dataframe\">\n",
       "  <thead>\n",
       "    <tr style=\"text-align: right;\">\n",
       "      <th></th>\n",
       "      <th>names</th>\n",
       "      <th>level</th>\n",
       "      <th>age</th>\n",
       "    </tr>\n",
       "  </thead>\n",
       "  <tbody>\n",
       "    <tr>\n",
       "      <th>0</th>\n",
       "      <td>john</td>\n",
       "      <td>1</td>\n",
       "      <td>27</td>\n",
       "    </tr>\n",
       "    <tr>\n",
       "      <th>1</th>\n",
       "      <td>mary</td>\n",
       "      <td>3</td>\n",
       "      <td>35</td>\n",
       "    </tr>\n",
       "  </tbody>\n",
       "</table>\n",
       "</div>"
      ],
      "text/plain": [
       "  names  level  age\n",
       "0  john      1   27\n",
       "1  mary      3   35"
      ]
     },
     "execution_count": 32,
     "metadata": {},
     "output_type": "execute_result"
    }
   ],
   "source": [
    "df_emp.loc[[0,1]]"
   ]
  },
  {
   "cell_type": "code",
   "execution_count": 33,
   "id": "4f9e4bf1",
   "metadata": {},
   "outputs": [
    {
     "data": {
      "text/plain": [
       "0    john\n",
       "1    mary\n",
       "Name: names, dtype: object"
      ]
     },
     "execution_count": 33,
     "metadata": {},
     "output_type": "execute_result"
    }
   ],
   "source": [
    "#filtering by loc, loc allows us access data by using the label(column name) of the data\n",
    "\n",
    "df_emp.loc[[0,1], 'names']"
   ]
  },
  {
   "cell_type": "code",
   "execution_count": 34,
   "id": "5c5c2830",
   "metadata": {},
   "outputs": [
    {
     "data": {
      "text/html": [
       "<div>\n",
       "<style scoped>\n",
       "    .dataframe tbody tr th:only-of-type {\n",
       "        vertical-align: middle;\n",
       "    }\n",
       "\n",
       "    .dataframe tbody tr th {\n",
       "        vertical-align: top;\n",
       "    }\n",
       "\n",
       "    .dataframe thead th {\n",
       "        text-align: right;\n",
       "    }\n",
       "</style>\n",
       "<table border=\"1\" class=\"dataframe\">\n",
       "  <thead>\n",
       "    <tr style=\"text-align: right;\">\n",
       "      <th></th>\n",
       "      <th>level</th>\n",
       "      <th>age</th>\n",
       "    </tr>\n",
       "  </thead>\n",
       "  <tbody>\n",
       "    <tr>\n",
       "      <th>0</th>\n",
       "      <td>1</td>\n",
       "      <td>27</td>\n",
       "    </tr>\n",
       "    <tr>\n",
       "      <th>1</th>\n",
       "      <td>3</td>\n",
       "      <td>35</td>\n",
       "    </tr>\n",
       "  </tbody>\n",
       "</table>\n",
       "</div>"
      ],
      "text/plain": [
       "   level  age\n",
       "0      1   27\n",
       "1      3   35"
      ]
     },
     "execution_count": 34,
     "metadata": {},
     "output_type": "execute_result"
    }
   ],
   "source": [
    "#this gives you the info on index 0 and 1 for column of level and age\n",
    "\n",
    "df_emp.loc[[0,1], ['level','age']]"
   ]
  },
  {
   "cell_type": "code",
   "execution_count": 35,
   "id": "7a543873",
   "metadata": {},
   "outputs": [
    {
     "data": {
      "text/html": [
       "<div>\n",
       "<style scoped>\n",
       "    .dataframe tbody tr th:only-of-type {\n",
       "        vertical-align: middle;\n",
       "    }\n",
       "\n",
       "    .dataframe tbody tr th {\n",
       "        vertical-align: top;\n",
       "    }\n",
       "\n",
       "    .dataframe thead th {\n",
       "        text-align: right;\n",
       "    }\n",
       "</style>\n",
       "<table border=\"1\" class=\"dataframe\">\n",
       "  <thead>\n",
       "    <tr style=\"text-align: right;\">\n",
       "      <th></th>\n",
       "      <th>level</th>\n",
       "      <th>age</th>\n",
       "    </tr>\n",
       "  </thead>\n",
       "  <tbody>\n",
       "    <tr>\n",
       "      <th>0</th>\n",
       "      <td>1</td>\n",
       "      <td>27</td>\n",
       "    </tr>\n",
       "    <tr>\n",
       "      <th>1</th>\n",
       "      <td>3</td>\n",
       "      <td>35</td>\n",
       "    </tr>\n",
       "    <tr>\n",
       "      <th>2</th>\n",
       "      <td>2</td>\n",
       "      <td>30</td>\n",
       "    </tr>\n",
       "  </tbody>\n",
       "</table>\n",
       "</div>"
      ],
      "text/plain": [
       "   level  age\n",
       "0      1   27\n",
       "1      3   35\n",
       "2      2   30"
      ]
     },
     "execution_count": 35,
     "metadata": {},
     "output_type": "execute_result"
    }
   ],
   "source": [
    "#show info from starting with 0 index and ending on the 2 index for leve; using slicing; and age column\n",
    "\n",
    "df_emp.loc[0:2, ['level','age']]"
   ]
  },
  {
   "cell_type": "code",
   "execution_count": 36,
   "id": "8c24b393",
   "metadata": {},
   "outputs": [
    {
     "data": {
      "text/html": [
       "<div>\n",
       "<style scoped>\n",
       "    .dataframe tbody tr th:only-of-type {\n",
       "        vertical-align: middle;\n",
       "    }\n",
       "\n",
       "    .dataframe tbody tr th {\n",
       "        vertical-align: top;\n",
       "    }\n",
       "\n",
       "    .dataframe thead th {\n",
       "        text-align: right;\n",
       "    }\n",
       "</style>\n",
       "<table border=\"1\" class=\"dataframe\">\n",
       "  <thead>\n",
       "    <tr style=\"text-align: right;\">\n",
       "      <th></th>\n",
       "      <th>level</th>\n",
       "      <th>age</th>\n",
       "    </tr>\n",
       "  </thead>\n",
       "  <tbody>\n",
       "    <tr>\n",
       "      <th>0</th>\n",
       "      <td>1</td>\n",
       "      <td>27</td>\n",
       "    </tr>\n",
       "    <tr>\n",
       "      <th>1</th>\n",
       "      <td>3</td>\n",
       "      <td>35</td>\n",
       "    </tr>\n",
       "    <tr>\n",
       "      <th>2</th>\n",
       "      <td>2</td>\n",
       "      <td>30</td>\n",
       "    </tr>\n",
       "  </tbody>\n",
       "</table>\n",
       "</div>"
      ],
      "text/plain": [
       "   level  age\n",
       "0      1   27\n",
       "1      3   35\n",
       "2      2   30"
      ]
     },
     "execution_count": 36,
     "metadata": {},
     "output_type": "execute_result"
    }
   ],
   "source": [
    "#using slicing for both rows and column, \n",
    "\n",
    "df_emp.loc[0:2, 'name':'age']"
   ]
  },
  {
   "cell_type": "markdown",
   "id": "be8f65a7",
   "metadata": {},
   "source": [
    "## Matplotlib\n",
    "\n",
    "Python's Matplotlib toolkit provides a complete tool for building static, animated, and interactive visualizations. Matplotlib creates plots and customized visuals. It can be used to plot barchart, stacked chart, horizontal bar chart, pie chart\n"
   ]
  },
  {
   "cell_type": "markdown",
   "id": "205b7516",
   "metadata": {},
   "source": [
    "#### Basic Plots\n",
    "\n",
    "Line plot:The plot() method is used to plot a line graph. It's a simple graph\n",
    "\n",
    "#### Subplots\n",
    "The subplot() function is used to create these. It is very useful to compare two plots.\n",
    "\n",
    "#### Advanced Plots\n",
    "\n",
    "It has multiple plots. \n"
   ]
  },
  {
   "cell_type": "code",
   "execution_count": 88,
   "id": "0d1ee1ba",
   "metadata": {},
   "outputs": [
    {
     "data": {
      "text/plain": [
       "[<matplotlib.lines.Line2D at 0x2b3ef3b0700>]"
      ]
     },
     "execution_count": 88,
     "metadata": {},
     "output_type": "execute_result"
    },
    {
     "data": {
      "image/png": "[encoded data removed]",
      "text/plain": [
       "<Figure size 432x288 with 1 Axes>"
      ]
     },
     "metadata": {
      "needs_background": "light"
     },
     "output_type": "display_data"
    }
   ],
   "source": [
    "# line plot with arrays\n",
    "\n",
    "#import matplotlib\n",
    "\n",
    "from matplotlib import pyplot as plt\n",
    "\n",
    "x= [1,3,4,5]\n",
    "y = [2,3,4,6]\n",
    "\n",
    "plt.title('Plot x,y') # assigning title\n",
    "\n",
    "plt.plot(x,y)"
   ]
  },
  {
   "cell_type": "markdown",
   "id": "2e72841d",
   "metadata": {},
   "source": [
    "## Seaborn\n",
    "\n",
    "Seaborn is a  matplotlib-based Python data visualization package. It offers a sophisticated user interface for creating great visual and useful statistics visuals.\n",
    "\n",
    "#### Distribution Plot\n",
    "\n",
    "Variable analysis use distribution charts. They provide a single continuous feature that aids in our understanding of characteristics like mean, variance, and standard deviation. Example scatterplot\n",
    "\n",
    "#### Categorical Plot\n",
    "\n",
    "This is when one of the variables used in comparism is categorical(not numerical value). Example catplot\n",
    "\n",
    "#### Matrix Plot\n",
    "\n",
    "A plot of matrix data is called a matrix plot. A color-coded figure with rows of data, columns of data, and values is known as a \"matrix plot.\" Example is the heatmap\n"
   ]
  },
  {
   "cell_type": "markdown",
   "id": "3249083a",
   "metadata": {},
   "source": [
    "### Data Analysis, Data Visualization and Data Analytics \n",
    "\n",
    "Use the data provided to answer the questions below:"
   ]
  },
  {
   "cell_type": "code",
   "execution_count": null,
   "id": "1a62f447",
   "metadata": {},
   "outputs": [],
   "source": []
  },
  {
   "cell_type": "code",
   "execution_count": 37,
   "id": "dbbed0fa",
   "metadata": {},
   "outputs": [],
   "source": [
    "# Import all necessary libraries\n",
    "\n",
    "\n",
    "import numpy as np\n",
    "import pandas as pd\n",
    "import matplotlib.pyplot as plt\n",
    "import seaborn as sns"
   ]
  },
  {
   "cell_type": "code",
   "execution_count": 38,
   "id": "debbbbcf",
   "metadata": {},
   "outputs": [],
   "source": [
    "# Load the dataset (10Alytics Data)\n",
    "\n",
    "data = pd.read_csv('10Alytics Data.csv')"
   ]
  },
  {
   "cell_type": "markdown",
   "id": "7d6a6dc5",
   "metadata": {},
   "source": [
    "### Exploratory Data Analysis – EDA (Give a brief write up on everything below)\n",
    "\n",
    "* Print the top 5 rows\n",
    "* Print the bottom 5 rows\n",
    "* Provide the full information of the Dataset\n",
    "* Provide statistical information on the dataset"
   ]
  },
  {
   "cell_type": "code",
   "execution_count": 39,
   "id": "c7c2e65b",
   "metadata": {},
   "outputs": [
    {
     "data": {
      "text/html": [
       "<div>\n",
       "<style scoped>\n",
       "    .dataframe tbody tr th:only-of-type {\n",
       "        vertical-align: middle;\n",
       "    }\n",
       "\n",
       "    .dataframe tbody tr th {\n",
       "        vertical-align: top;\n",
       "    }\n",
       "\n",
       "    .dataframe thead th {\n",
       "        text-align: right;\n",
       "    }\n",
       "</style>\n",
       "<table border=\"1\" class=\"dataframe\">\n",
       "  <thead>\n",
       "    <tr style=\"text-align: right;\">\n",
       "      <th></th>\n",
       "      <th>Date</th>\n",
       "      <th>Customer</th>\n",
       "      <th>Sales Person</th>\n",
       "      <th>Customer_Age</th>\n",
       "      <th>Customer_Gender</th>\n",
       "      <th>State</th>\n",
       "      <th>Product_Category</th>\n",
       "      <th>Sub_Category</th>\n",
       "      <th>Payment Option</th>\n",
       "      <th>Quantity</th>\n",
       "      <th>Unit_Cost</th>\n",
       "      <th>Unit_Price</th>\n",
       "    </tr>\n",
       "  </thead>\n",
       "  <tbody>\n",
       "    <tr>\n",
       "      <th>0</th>\n",
       "      <td>19-Feb-16</td>\n",
       "      <td>High</td>\n",
       "      <td>Segun</td>\n",
       "      <td>29</td>\n",
       "      <td>F</td>\n",
       "      <td>Abia</td>\n",
       "      <td>Accessories</td>\n",
       "      <td>Keyboard</td>\n",
       "      <td>Online</td>\n",
       "      <td>1.0</td>\n",
       "      <td>80.00</td>\n",
       "      <td>109.00</td>\n",
       "    </tr>\n",
       "    <tr>\n",
       "      <th>1</th>\n",
       "      <td>20-Feb-16</td>\n",
       "      <td>High</td>\n",
       "      <td>Segun</td>\n",
       "      <td>29</td>\n",
       "      <td>F</td>\n",
       "      <td>Abia</td>\n",
       "      <td>Clothing</td>\n",
       "      <td>Polo shirts</td>\n",
       "      <td>Online</td>\n",
       "      <td>2.0</td>\n",
       "      <td>24.50</td>\n",
       "      <td>28.50</td>\n",
       "    </tr>\n",
       "    <tr>\n",
       "      <th>2</th>\n",
       "      <td>27-Feb-16</td>\n",
       "      <td>High</td>\n",
       "      <td>Segun</td>\n",
       "      <td>29</td>\n",
       "      <td>F</td>\n",
       "      <td>Abia</td>\n",
       "      <td>Accessories</td>\n",
       "      <td>Keyboard</td>\n",
       "      <td>Online</td>\n",
       "      <td>3.0</td>\n",
       "      <td>3.67</td>\n",
       "      <td>5.00</td>\n",
       "    </tr>\n",
       "    <tr>\n",
       "      <th>3</th>\n",
       "      <td>12-Mar-16</td>\n",
       "      <td>High</td>\n",
       "      <td>Segun</td>\n",
       "      <td>29</td>\n",
       "      <td>F</td>\n",
       "      <td>Abia</td>\n",
       "      <td>Accessories</td>\n",
       "      <td>Keyboard</td>\n",
       "      <td>Online</td>\n",
       "      <td>2.0</td>\n",
       "      <td>87.50</td>\n",
       "      <td>116.50</td>\n",
       "    </tr>\n",
       "    <tr>\n",
       "      <th>4</th>\n",
       "      <td>12-Mar-16</td>\n",
       "      <td>High</td>\n",
       "      <td>Segun</td>\n",
       "      <td>29</td>\n",
       "      <td>F</td>\n",
       "      <td>Abia</td>\n",
       "      <td>Accessories</td>\n",
       "      <td>Keyboard</td>\n",
       "      <td>Online</td>\n",
       "      <td>3.0</td>\n",
       "      <td>35.00</td>\n",
       "      <td>41.67</td>\n",
       "    </tr>\n",
       "  </tbody>\n",
       "</table>\n",
       "</div>"
      ],
      "text/plain": [
       "        Date Customer Sales Person  Customer_Age Customer_Gender State  \\\n",
       "0  19-Feb-16     High        Segun            29               F  Abia   \n",
       "1  20-Feb-16     High        Segun            29               F  Abia   \n",
       "2  27-Feb-16     High        Segun            29               F  Abia   \n",
       "3  12-Mar-16     High        Segun            29               F  Abia   \n",
       "4  12-Mar-16     High        Segun            29               F  Abia   \n",
       "\n",
       "  Product_Category Sub_Category Payment Option  Quantity  Unit_Cost  \\\n",
       "0      Accessories     Keyboard         Online       1.0      80.00   \n",
       "1         Clothing  Polo shirts         Online       2.0      24.50   \n",
       "2      Accessories     Keyboard         Online       3.0       3.67   \n",
       "3      Accessories     Keyboard         Online       2.0      87.50   \n",
       "4      Accessories     Keyboard         Online       3.0      35.00   \n",
       "\n",
       "   Unit_Price  \n",
       "0      109.00  \n",
       "1       28.50  \n",
       "2        5.00  \n",
       "3      116.50  \n",
       "4       41.67  "
      ]
     },
     "execution_count": 39,
     "metadata": {},
     "output_type": "execute_result"
    }
   ],
   "source": [
    "#top 5 rows\n",
    "\n",
    "data.head(5)"
   ]
  },
  {
   "cell_type": "code",
   "execution_count": 40,
   "id": "2838d19c",
   "metadata": {},
   "outputs": [
    {
     "data": {
      "text/html": [
       "<div>\n",
       "<style scoped>\n",
       "    .dataframe tbody tr th:only-of-type {\n",
       "        vertical-align: middle;\n",
       "    }\n",
       "\n",
       "    .dataframe tbody tr th {\n",
       "        vertical-align: top;\n",
       "    }\n",
       "\n",
       "    .dataframe thead th {\n",
       "        text-align: right;\n",
       "    }\n",
       "</style>\n",
       "<table border=\"1\" class=\"dataframe\">\n",
       "  <thead>\n",
       "    <tr style=\"text-align: right;\">\n",
       "      <th></th>\n",
       "      <th>Date</th>\n",
       "      <th>Customer</th>\n",
       "      <th>Sales Person</th>\n",
       "      <th>Customer_Age</th>\n",
       "      <th>Customer_Gender</th>\n",
       "      <th>State</th>\n",
       "      <th>Product_Category</th>\n",
       "      <th>Sub_Category</th>\n",
       "      <th>Payment Option</th>\n",
       "      <th>Quantity</th>\n",
       "      <th>Unit_Cost</th>\n",
       "      <th>Unit_Price</th>\n",
       "    </tr>\n",
       "  </thead>\n",
       "  <tbody>\n",
       "    <tr>\n",
       "      <th>34862</th>\n",
       "      <td>07-Feb-16</td>\n",
       "      <td>High</td>\n",
       "      <td>Kenny</td>\n",
       "      <td>38</td>\n",
       "      <td>M</td>\n",
       "      <td>Ebonyi</td>\n",
       "      <td>Phones</td>\n",
       "      <td>IPhone</td>\n",
       "      <td>Online</td>\n",
       "      <td>2.0</td>\n",
       "      <td>1160.0</td>\n",
       "      <td>985.50</td>\n",
       "    </tr>\n",
       "    <tr>\n",
       "      <th>34863</th>\n",
       "      <td>13-Mar-15</td>\n",
       "      <td>High</td>\n",
       "      <td>Kenny</td>\n",
       "      <td>38</td>\n",
       "      <td>M</td>\n",
       "      <td>Ebonyi</td>\n",
       "      <td>Phones</td>\n",
       "      <td>IPhone</td>\n",
       "      <td>Online</td>\n",
       "      <td>1.0</td>\n",
       "      <td>2049.0</td>\n",
       "      <td>1583.00</td>\n",
       "    </tr>\n",
       "    <tr>\n",
       "      <th>34864</th>\n",
       "      <td>05-Apr-15</td>\n",
       "      <td>High</td>\n",
       "      <td>Kenny</td>\n",
       "      <td>38</td>\n",
       "      <td>M</td>\n",
       "      <td>Ebonyi</td>\n",
       "      <td>Phones</td>\n",
       "      <td>IPhone</td>\n",
       "      <td>Online</td>\n",
       "      <td>3.0</td>\n",
       "      <td>683.0</td>\n",
       "      <td>560.67</td>\n",
       "    </tr>\n",
       "    <tr>\n",
       "      <th>34865</th>\n",
       "      <td>30-Aug-15</td>\n",
       "      <td>High</td>\n",
       "      <td>Kenny</td>\n",
       "      <td>38</td>\n",
       "      <td>M</td>\n",
       "      <td>Ebonyi</td>\n",
       "      <td>Phones</td>\n",
       "      <td>IPhone</td>\n",
       "      <td>Online</td>\n",
       "      <td>1.0</td>\n",
       "      <td>2320.0</td>\n",
       "      <td>1568.00</td>\n",
       "    </tr>\n",
       "    <tr>\n",
       "      <th>34866</th>\n",
       "      <td>NaN</td>\n",
       "      <td>NaN</td>\n",
       "      <td>NaN</td>\n",
       "      <td>38</td>\n",
       "      <td>NaN</td>\n",
       "      <td>NaN</td>\n",
       "      <td>NaN</td>\n",
       "      <td>NaN</td>\n",
       "      <td>NaN</td>\n",
       "      <td>NaN</td>\n",
       "      <td>NaN</td>\n",
       "      <td>NaN</td>\n",
       "    </tr>\n",
       "  </tbody>\n",
       "</table>\n",
       "</div>"
      ],
      "text/plain": [
       "            Date Customer Sales Person  Customer_Age Customer_Gender   State  \\\n",
       "34862  07-Feb-16     High        Kenny            38               M  Ebonyi   \n",
       "34863  13-Mar-15     High        Kenny            38               M  Ebonyi   \n",
       "34864  05-Apr-15     High        Kenny            38               M  Ebonyi   \n",
       "34865  30-Aug-15     High        Kenny            38               M  Ebonyi   \n",
       "34866        NaN      NaN          NaN            38             NaN     NaN   \n",
       "\n",
       "      Product_Category Sub_Category Payment Option  Quantity  Unit_Cost  \\\n",
       "34862           Phones       IPhone         Online       2.0     1160.0   \n",
       "34863           Phones       IPhone         Online       1.0     2049.0   \n",
       "34864           Phones       IPhone         Online       3.0      683.0   \n",
       "34865           Phones       IPhone         Online       1.0     2320.0   \n",
       "34866              NaN          NaN            NaN       NaN        NaN   \n",
       "\n",
       "       Unit_Price  \n",
       "34862      985.50  \n",
       "34863     1583.00  \n",
       "34864      560.67  \n",
       "34865     1568.00  \n",
       "34866         NaN  "
      ]
     },
     "execution_count": 40,
     "metadata": {},
     "output_type": "execute_result"
    }
   ],
   "source": [
    "#botton 5 rows\n",
    "\n",
    "data.tail(5)"
   ]
  },
  {
   "cell_type": "code",
   "execution_count": 41,
   "id": "b0417bae",
   "metadata": {},
   "outputs": [
    {
     "name": "stdout",
     "output_type": "stream",
     "text": [
      "<class 'pandas.core.frame.DataFrame'>\n",
      "RangeIndex: 34867 entries, 0 to 34866\n",
      "Data columns (total 12 columns):\n",
      " #   Column            Non-Null Count  Dtype  \n",
      "---  ------            --------------  -----  \n",
      " 0   Date              34866 non-null  object \n",
      " 1   Customer          34866 non-null  object \n",
      " 2   Sales Person      34866 non-null  object \n",
      " 3   Customer_Age      34867 non-null  int64  \n",
      " 4   Customer_Gender   34866 non-null  object \n",
      " 5   State             34866 non-null  object \n",
      " 6   Product_Category  34866 non-null  object \n",
      " 7   Sub_Category      34866 non-null  object \n",
      " 8   Payment Option    34866 non-null  object \n",
      " 9   Quantity          34866 non-null  float64\n",
      " 10  Unit_Cost         34866 non-null  float64\n",
      " 11  Unit_Price        34866 non-null  float64\n",
      "dtypes: float64(3), int64(1), object(8)\n",
      "memory usage: 3.2+ MB\n"
     ]
    }
   ],
   "source": [
    "#full info\n",
    "\n",
    "data.info()"
   ]
  },
  {
   "cell_type": "code",
   "execution_count": 42,
   "id": "b2bb8bd8",
   "metadata": {},
   "outputs": [
    {
     "data": {
      "text/html": [
       "<div>\n",
       "<style scoped>\n",
       "    .dataframe tbody tr th:only-of-type {\n",
       "        vertical-align: middle;\n",
       "    }\n",
       "\n",
       "    .dataframe tbody tr th {\n",
       "        vertical-align: top;\n",
       "    }\n",
       "\n",
       "    .dataframe thead th {\n",
       "        text-align: right;\n",
       "    }\n",
       "</style>\n",
       "<table border=\"1\" class=\"dataframe\">\n",
       "  <thead>\n",
       "    <tr style=\"text-align: right;\">\n",
       "      <th></th>\n",
       "      <th>Customer_Age</th>\n",
       "      <th>Quantity</th>\n",
       "      <th>Unit_Cost</th>\n",
       "      <th>Unit_Price</th>\n",
       "    </tr>\n",
       "  </thead>\n",
       "  <tbody>\n",
       "    <tr>\n",
       "      <th>count</th>\n",
       "      <td>34867.000000</td>\n",
       "      <td>34866.000000</td>\n",
       "      <td>34866.000000</td>\n",
       "      <td>34866.000000</td>\n",
       "    </tr>\n",
       "    <tr>\n",
       "      <th>mean</th>\n",
       "      <td>36.382683</td>\n",
       "      <td>2.002524</td>\n",
       "      <td>349.880567</td>\n",
       "      <td>389.232473</td>\n",
       "    </tr>\n",
       "    <tr>\n",
       "      <th>std</th>\n",
       "      <td>11.112813</td>\n",
       "      <td>0.813936</td>\n",
       "      <td>490.015846</td>\n",
       "      <td>525.319097</td>\n",
       "    </tr>\n",
       "    <tr>\n",
       "      <th>min</th>\n",
       "      <td>17.000000</td>\n",
       "      <td>1.000000</td>\n",
       "      <td>0.670000</td>\n",
       "      <td>0.670000</td>\n",
       "    </tr>\n",
       "    <tr>\n",
       "      <th>25%</th>\n",
       "      <td>28.000000</td>\n",
       "      <td>1.000000</td>\n",
       "      <td>45.000000</td>\n",
       "      <td>53.670000</td>\n",
       "    </tr>\n",
       "    <tr>\n",
       "      <th>50%</th>\n",
       "      <td>35.000000</td>\n",
       "      <td>2.000000</td>\n",
       "      <td>150.000000</td>\n",
       "      <td>179.000000</td>\n",
       "    </tr>\n",
       "    <tr>\n",
       "      <th>75%</th>\n",
       "      <td>44.000000</td>\n",
       "      <td>3.000000</td>\n",
       "      <td>455.000000</td>\n",
       "      <td>521.000000</td>\n",
       "    </tr>\n",
       "    <tr>\n",
       "      <th>max</th>\n",
       "      <td>87.000000</td>\n",
       "      <td>3.000000</td>\n",
       "      <td>3240.000000</td>\n",
       "      <td>5082.000000</td>\n",
       "    </tr>\n",
       "  </tbody>\n",
       "</table>\n",
       "</div>"
      ],
      "text/plain": [
       "       Customer_Age      Quantity     Unit_Cost    Unit_Price\n",
       "count  34867.000000  34866.000000  34866.000000  34866.000000\n",
       "mean      36.382683      2.002524    349.880567    389.232473\n",
       "std       11.112813      0.813936    490.015846    525.319097\n",
       "min       17.000000      1.000000      0.670000      0.670000\n",
       "25%       28.000000      1.000000     45.000000     53.670000\n",
       "50%       35.000000      2.000000    150.000000    179.000000\n",
       "75%       44.000000      3.000000    455.000000    521.000000\n",
       "max       87.000000      3.000000   3240.000000   5082.000000"
      ]
     },
     "execution_count": 42,
     "metadata": {},
     "output_type": "execute_result"
    }
   ],
   "source": [
    "#describing the data\n",
    "\n",
    "data.describe()"
   ]
  },
  {
   "cell_type": "markdown",
   "id": "36d1a785",
   "metadata": {},
   "source": [
    "### Data Preparation\n",
    "\n",
    "* Create a new column and group all customer age into brackets\n",
    "    - 0 – 19 = (teenagers), 20 – 30 = (Youth), 31-40 = (Adult), etc\n",
    "* Create a new column for the following:\n",
    "    - Total Cost = Quantity * Unit_cost\n",
    "    - Total Revenue = Quantity * Unit_Price\n",
    "    - Profit/Loss = Total Revenue – Total Cost\n",
    "* Create a new column and categorize Profit/Loss\n",
    "    - Less than 0 = Loss\n",
    "    - Greater than 0 = Profit"
   ]
  },
  {
   "cell_type": "code",
   "execution_count": 43,
   "id": "ab06481a",
   "metadata": {},
   "outputs": [
    {
     "data": {
      "text/html": [
       "<div>\n",
       "<style scoped>\n",
       "    .dataframe tbody tr th:only-of-type {\n",
       "        vertical-align: middle;\n",
       "    }\n",
       "\n",
       "    .dataframe tbody tr th {\n",
       "        vertical-align: top;\n",
       "    }\n",
       "\n",
       "    .dataframe thead th {\n",
       "        text-align: right;\n",
       "    }\n",
       "</style>\n",
       "<table border=\"1\" class=\"dataframe\">\n",
       "  <thead>\n",
       "    <tr style=\"text-align: right;\">\n",
       "      <th></th>\n",
       "      <th>Date</th>\n",
       "      <th>Customer</th>\n",
       "      <th>Sales Person</th>\n",
       "      <th>Customer_Age</th>\n",
       "      <th>Customer_Gender</th>\n",
       "      <th>State</th>\n",
       "      <th>Product_Category</th>\n",
       "      <th>Sub_Category</th>\n",
       "      <th>Payment Option</th>\n",
       "      <th>Quantity</th>\n",
       "      <th>Unit_Cost</th>\n",
       "      <th>Unit_Price</th>\n",
       "      <th>Age_Group</th>\n",
       "    </tr>\n",
       "  </thead>\n",
       "  <tbody>\n",
       "    <tr>\n",
       "      <th>0</th>\n",
       "      <td>19-Feb-16</td>\n",
       "      <td>High</td>\n",
       "      <td>Segun</td>\n",
       "      <td>29</td>\n",
       "      <td>F</td>\n",
       "      <td>Abia</td>\n",
       "      <td>Accessories</td>\n",
       "      <td>Keyboard</td>\n",
       "      <td>Online</td>\n",
       "      <td>1.0</td>\n",
       "      <td>80.00</td>\n",
       "      <td>109.00</td>\n",
       "      <td>youth</td>\n",
       "    </tr>\n",
       "    <tr>\n",
       "      <th>1</th>\n",
       "      <td>20-Feb-16</td>\n",
       "      <td>High</td>\n",
       "      <td>Segun</td>\n",
       "      <td>29</td>\n",
       "      <td>F</td>\n",
       "      <td>Abia</td>\n",
       "      <td>Clothing</td>\n",
       "      <td>Polo shirts</td>\n",
       "      <td>Online</td>\n",
       "      <td>2.0</td>\n",
       "      <td>24.50</td>\n",
       "      <td>28.50</td>\n",
       "      <td>youth</td>\n",
       "    </tr>\n",
       "    <tr>\n",
       "      <th>2</th>\n",
       "      <td>27-Feb-16</td>\n",
       "      <td>High</td>\n",
       "      <td>Segun</td>\n",
       "      <td>29</td>\n",
       "      <td>F</td>\n",
       "      <td>Abia</td>\n",
       "      <td>Accessories</td>\n",
       "      <td>Keyboard</td>\n",
       "      <td>Online</td>\n",
       "      <td>3.0</td>\n",
       "      <td>3.67</td>\n",
       "      <td>5.00</td>\n",
       "      <td>youth</td>\n",
       "    </tr>\n",
       "    <tr>\n",
       "      <th>3</th>\n",
       "      <td>12-Mar-16</td>\n",
       "      <td>High</td>\n",
       "      <td>Segun</td>\n",
       "      <td>29</td>\n",
       "      <td>F</td>\n",
       "      <td>Abia</td>\n",
       "      <td>Accessories</td>\n",
       "      <td>Keyboard</td>\n",
       "      <td>Online</td>\n",
       "      <td>2.0</td>\n",
       "      <td>87.50</td>\n",
       "      <td>116.50</td>\n",
       "      <td>youth</td>\n",
       "    </tr>\n",
       "    <tr>\n",
       "      <th>4</th>\n",
       "      <td>12-Mar-16</td>\n",
       "      <td>High</td>\n",
       "      <td>Segun</td>\n",
       "      <td>29</td>\n",
       "      <td>F</td>\n",
       "      <td>Abia</td>\n",
       "      <td>Accessories</td>\n",
       "      <td>Keyboard</td>\n",
       "      <td>Online</td>\n",
       "      <td>3.0</td>\n",
       "      <td>35.00</td>\n",
       "      <td>41.67</td>\n",
       "      <td>youth</td>\n",
       "    </tr>\n",
       "  </tbody>\n",
       "</table>\n",
       "</div>"
      ],
      "text/plain": [
       "        Date Customer Sales Person  Customer_Age Customer_Gender State  \\\n",
       "0  19-Feb-16     High        Segun            29               F  Abia   \n",
       "1  20-Feb-16     High        Segun            29               F  Abia   \n",
       "2  27-Feb-16     High        Segun            29               F  Abia   \n",
       "3  12-Mar-16     High        Segun            29               F  Abia   \n",
       "4  12-Mar-16     High        Segun            29               F  Abia   \n",
       "\n",
       "  Product_Category Sub_Category Payment Option  Quantity  Unit_Cost  \\\n",
       "0      Accessories     Keyboard         Online       1.0      80.00   \n",
       "1         Clothing  Polo shirts         Online       2.0      24.50   \n",
       "2      Accessories     Keyboard         Online       3.0       3.67   \n",
       "3      Accessories     Keyboard         Online       2.0      87.50   \n",
       "4      Accessories     Keyboard         Online       3.0      35.00   \n",
       "\n",
       "   Unit_Price Age_Group  \n",
       "0      109.00     youth  \n",
       "1       28.50     youth  \n",
       "2        5.00     youth  \n",
       "3      116.50     youth  \n",
       "4       41.67     youth  "
      ]
     },
     "execution_count": 43,
     "metadata": {},
     "output_type": "execute_result"
    }
   ],
   "source": [
    "#using loc function, to group the age group of the customer\n",
    "\n",
    "data['Age_Group'] = ''\n",
    "\n",
    "data.loc[data['Customer_Age'] < 19,'Age_Group'] = 'teenagers'\n",
    "data.loc[(data['Customer_Age'] > 19) & (data['Customer_Age'] <=30), 'Age_Group'] = 'youth'\n",
    "data.loc[(data['Customer_Age'] > 30) & (data['Customer_Age']<=40),'Age_Group'] = 'adult'\n",
    "data.loc[data['Customer_Age']> 40, 'Age_Group'] ='elder'\n",
    "\n",
    "\n",
    "data.head()"
   ]
  },
  {
   "cell_type": "code",
   "execution_count": 44,
   "id": "04c0a973",
   "metadata": {},
   "outputs": [
    {
     "data": {
      "text/html": [
       "<div>\n",
       "<style scoped>\n",
       "    .dataframe tbody tr th:only-of-type {\n",
       "        vertical-align: middle;\n",
       "    }\n",
       "\n",
       "    .dataframe tbody tr th {\n",
       "        vertical-align: top;\n",
       "    }\n",
       "\n",
       "    .dataframe thead th {\n",
       "        text-align: right;\n",
       "    }\n",
       "</style>\n",
       "<table border=\"1\" class=\"dataframe\">\n",
       "  <thead>\n",
       "    <tr style=\"text-align: right;\">\n",
       "      <th></th>\n",
       "      <th>Date</th>\n",
       "      <th>Customer</th>\n",
       "      <th>Sales Person</th>\n",
       "      <th>Customer_Age</th>\n",
       "      <th>Customer_Gender</th>\n",
       "      <th>State</th>\n",
       "      <th>Product_Category</th>\n",
       "      <th>Sub_Category</th>\n",
       "      <th>Payment Option</th>\n",
       "      <th>Quantity</th>\n",
       "      <th>Unit_Cost</th>\n",
       "      <th>Unit_Price</th>\n",
       "      <th>Age_Group</th>\n",
       "      <th>Total_Cost</th>\n",
       "      <th>Total_Revenue</th>\n",
       "      <th>Profit/Loss</th>\n",
       "    </tr>\n",
       "  </thead>\n",
       "  <tbody>\n",
       "    <tr>\n",
       "      <th>0</th>\n",
       "      <td>19-Feb-16</td>\n",
       "      <td>High</td>\n",
       "      <td>Segun</td>\n",
       "      <td>29</td>\n",
       "      <td>F</td>\n",
       "      <td>Abia</td>\n",
       "      <td>Accessories</td>\n",
       "      <td>Keyboard</td>\n",
       "      <td>Online</td>\n",
       "      <td>1.0</td>\n",
       "      <td>80.00</td>\n",
       "      <td>109.00</td>\n",
       "      <td>youth</td>\n",
       "      <td>80.00</td>\n",
       "      <td>109.00</td>\n",
       "      <td>29.00</td>\n",
       "    </tr>\n",
       "    <tr>\n",
       "      <th>1</th>\n",
       "      <td>20-Feb-16</td>\n",
       "      <td>High</td>\n",
       "      <td>Segun</td>\n",
       "      <td>29</td>\n",
       "      <td>F</td>\n",
       "      <td>Abia</td>\n",
       "      <td>Clothing</td>\n",
       "      <td>Polo shirts</td>\n",
       "      <td>Online</td>\n",
       "      <td>2.0</td>\n",
       "      <td>24.50</td>\n",
       "      <td>28.50</td>\n",
       "      <td>youth</td>\n",
       "      <td>49.00</td>\n",
       "      <td>57.00</td>\n",
       "      <td>8.00</td>\n",
       "    </tr>\n",
       "    <tr>\n",
       "      <th>2</th>\n",
       "      <td>27-Feb-16</td>\n",
       "      <td>High</td>\n",
       "      <td>Segun</td>\n",
       "      <td>29</td>\n",
       "      <td>F</td>\n",
       "      <td>Abia</td>\n",
       "      <td>Accessories</td>\n",
       "      <td>Keyboard</td>\n",
       "      <td>Online</td>\n",
       "      <td>3.0</td>\n",
       "      <td>3.67</td>\n",
       "      <td>5.00</td>\n",
       "      <td>youth</td>\n",
       "      <td>11.01</td>\n",
       "      <td>15.00</td>\n",
       "      <td>3.99</td>\n",
       "    </tr>\n",
       "    <tr>\n",
       "      <th>3</th>\n",
       "      <td>12-Mar-16</td>\n",
       "      <td>High</td>\n",
       "      <td>Segun</td>\n",
       "      <td>29</td>\n",
       "      <td>F</td>\n",
       "      <td>Abia</td>\n",
       "      <td>Accessories</td>\n",
       "      <td>Keyboard</td>\n",
       "      <td>Online</td>\n",
       "      <td>2.0</td>\n",
       "      <td>87.50</td>\n",
       "      <td>116.50</td>\n",
       "      <td>youth</td>\n",
       "      <td>175.00</td>\n",
       "      <td>233.00</td>\n",
       "      <td>58.00</td>\n",
       "    </tr>\n",
       "    <tr>\n",
       "      <th>4</th>\n",
       "      <td>12-Mar-16</td>\n",
       "      <td>High</td>\n",
       "      <td>Segun</td>\n",
       "      <td>29</td>\n",
       "      <td>F</td>\n",
       "      <td>Abia</td>\n",
       "      <td>Accessories</td>\n",
       "      <td>Keyboard</td>\n",
       "      <td>Online</td>\n",
       "      <td>3.0</td>\n",
       "      <td>35.00</td>\n",
       "      <td>41.67</td>\n",
       "      <td>youth</td>\n",
       "      <td>105.00</td>\n",
       "      <td>125.01</td>\n",
       "      <td>20.01</td>\n",
       "    </tr>\n",
       "  </tbody>\n",
       "</table>\n",
       "</div>"
      ],
      "text/plain": [
       "        Date Customer Sales Person  Customer_Age Customer_Gender State  \\\n",
       "0  19-Feb-16     High        Segun            29               F  Abia   \n",
       "1  20-Feb-16     High        Segun            29               F  Abia   \n",
       "2  27-Feb-16     High        Segun            29               F  Abia   \n",
       "3  12-Mar-16     High        Segun            29               F  Abia   \n",
       "4  12-Mar-16     High        Segun            29               F  Abia   \n",
       "\n",
       "  Product_Category Sub_Category Payment Option  Quantity  Unit_Cost  \\\n",
       "0      Accessories     Keyboard         Online       1.0      80.00   \n",
       "1         Clothing  Polo shirts         Online       2.0      24.50   \n",
       "2      Accessories     Keyboard         Online       3.0       3.67   \n",
       "3      Accessories     Keyboard         Online       2.0      87.50   \n",
       "4      Accessories     Keyboard         Online       3.0      35.00   \n",
       "\n",
       "   Unit_Price Age_Group  Total_Cost  Total_Revenue  Profit/Loss  \n",
       "0      109.00     youth       80.00         109.00        29.00  \n",
       "1       28.50     youth       49.00          57.00         8.00  \n",
       "2        5.00     youth       11.01          15.00         3.99  \n",
       "3      116.50     youth      175.00         233.00        58.00  \n",
       "4       41.67     youth      105.00         125.01        20.01  "
      ]
     },
     "execution_count": 44,
     "metadata": {},
     "output_type": "execute_result"
    }
   ],
   "source": [
    "#creating new columns with the following informations, \n",
    "#Total Cost = Quantity * Unit_cost\n",
    "#Total Revenue = Quantity * Unit_Price\n",
    "#Profit/Loss = Total Revenue – Total Cost\n",
    "\n",
    "data['Total_Cost'] = data['Quantity']*data['Unit_Cost']\n",
    "data['Total_Revenue'] = data['Quantity']*data['Unit_Price']\n",
    "data['Profit/Loss'] = data['Total_Revenue'] - data['Total_Cost']\n",
    "\n",
    "data.head()\n",
    "\n",
    "\n"
   ]
  },
  {
   "cell_type": "code",
   "execution_count": 45,
   "id": "2cc17d18",
   "metadata": {},
   "outputs": [
    {
     "data": {
      "text/html": [
       "<div>\n",
       "<style scoped>\n",
       "    .dataframe tbody tr th:only-of-type {\n",
       "        vertical-align: middle;\n",
       "    }\n",
       "\n",
       "    .dataframe tbody tr th {\n",
       "        vertical-align: top;\n",
       "    }\n",
       "\n",
       "    .dataframe thead th {\n",
       "        text-align: right;\n",
       "    }\n",
       "</style>\n",
       "<table border=\"1\" class=\"dataframe\">\n",
       "  <thead>\n",
       "    <tr style=\"text-align: right;\">\n",
       "      <th></th>\n",
       "      <th>Date</th>\n",
       "      <th>Customer</th>\n",
       "      <th>Sales Person</th>\n",
       "      <th>Customer_Age</th>\n",
       "      <th>Customer_Gender</th>\n",
       "      <th>State</th>\n",
       "      <th>Product_Category</th>\n",
       "      <th>Sub_Category</th>\n",
       "      <th>Payment Option</th>\n",
       "      <th>Quantity</th>\n",
       "      <th>Unit_Cost</th>\n",
       "      <th>Unit_Price</th>\n",
       "      <th>Age_Group</th>\n",
       "      <th>Total_Cost</th>\n",
       "      <th>Total_Revenue</th>\n",
       "      <th>Profit/Loss</th>\n",
       "      <th>Profit_Loss</th>\n",
       "    </tr>\n",
       "  </thead>\n",
       "  <tbody>\n",
       "    <tr>\n",
       "      <th>0</th>\n",
       "      <td>19-Feb-16</td>\n",
       "      <td>High</td>\n",
       "      <td>Segun</td>\n",
       "      <td>29</td>\n",
       "      <td>F</td>\n",
       "      <td>Abia</td>\n",
       "      <td>Accessories</td>\n",
       "      <td>Keyboard</td>\n",
       "      <td>Online</td>\n",
       "      <td>1.0</td>\n",
       "      <td>80.00</td>\n",
       "      <td>109.00</td>\n",
       "      <td>youth</td>\n",
       "      <td>80.00</td>\n",
       "      <td>109.00</td>\n",
       "      <td>29.00</td>\n",
       "      <td>Profit</td>\n",
       "    </tr>\n",
       "    <tr>\n",
       "      <th>1</th>\n",
       "      <td>20-Feb-16</td>\n",
       "      <td>High</td>\n",
       "      <td>Segun</td>\n",
       "      <td>29</td>\n",
       "      <td>F</td>\n",
       "      <td>Abia</td>\n",
       "      <td>Clothing</td>\n",
       "      <td>Polo shirts</td>\n",
       "      <td>Online</td>\n",
       "      <td>2.0</td>\n",
       "      <td>24.50</td>\n",
       "      <td>28.50</td>\n",
       "      <td>youth</td>\n",
       "      <td>49.00</td>\n",
       "      <td>57.00</td>\n",
       "      <td>8.00</td>\n",
       "      <td>Profit</td>\n",
       "    </tr>\n",
       "    <tr>\n",
       "      <th>2</th>\n",
       "      <td>27-Feb-16</td>\n",
       "      <td>High</td>\n",
       "      <td>Segun</td>\n",
       "      <td>29</td>\n",
       "      <td>F</td>\n",
       "      <td>Abia</td>\n",
       "      <td>Accessories</td>\n",
       "      <td>Keyboard</td>\n",
       "      <td>Online</td>\n",
       "      <td>3.0</td>\n",
       "      <td>3.67</td>\n",
       "      <td>5.00</td>\n",
       "      <td>youth</td>\n",
       "      <td>11.01</td>\n",
       "      <td>15.00</td>\n",
       "      <td>3.99</td>\n",
       "      <td>Profit</td>\n",
       "    </tr>\n",
       "    <tr>\n",
       "      <th>3</th>\n",
       "      <td>12-Mar-16</td>\n",
       "      <td>High</td>\n",
       "      <td>Segun</td>\n",
       "      <td>29</td>\n",
       "      <td>F</td>\n",
       "      <td>Abia</td>\n",
       "      <td>Accessories</td>\n",
       "      <td>Keyboard</td>\n",
       "      <td>Online</td>\n",
       "      <td>2.0</td>\n",
       "      <td>87.50</td>\n",
       "      <td>116.50</td>\n",
       "      <td>youth</td>\n",
       "      <td>175.00</td>\n",
       "      <td>233.00</td>\n",
       "      <td>58.00</td>\n",
       "      <td>Profit</td>\n",
       "    </tr>\n",
       "    <tr>\n",
       "      <th>4</th>\n",
       "      <td>12-Mar-16</td>\n",
       "      <td>High</td>\n",
       "      <td>Segun</td>\n",
       "      <td>29</td>\n",
       "      <td>F</td>\n",
       "      <td>Abia</td>\n",
       "      <td>Accessories</td>\n",
       "      <td>Keyboard</td>\n",
       "      <td>Online</td>\n",
       "      <td>3.0</td>\n",
       "      <td>35.00</td>\n",
       "      <td>41.67</td>\n",
       "      <td>youth</td>\n",
       "      <td>105.00</td>\n",
       "      <td>125.01</td>\n",
       "      <td>20.01</td>\n",
       "      <td>Profit</td>\n",
       "    </tr>\n",
       "  </tbody>\n",
       "</table>\n",
       "</div>"
      ],
      "text/plain": [
       "        Date Customer Sales Person  Customer_Age Customer_Gender State  \\\n",
       "0  19-Feb-16     High        Segun            29               F  Abia   \n",
       "1  20-Feb-16     High        Segun            29               F  Abia   \n",
       "2  27-Feb-16     High        Segun            29               F  Abia   \n",
       "3  12-Mar-16     High        Segun            29               F  Abia   \n",
       "4  12-Mar-16     High        Segun            29               F  Abia   \n",
       "\n",
       "  Product_Category Sub_Category Payment Option  Quantity  Unit_Cost  \\\n",
       "0      Accessories     Keyboard         Online       1.0      80.00   \n",
       "1         Clothing  Polo shirts         Online       2.0      24.50   \n",
       "2      Accessories     Keyboard         Online       3.0       3.67   \n",
       "3      Accessories     Keyboard         Online       2.0      87.50   \n",
       "4      Accessories     Keyboard         Online       3.0      35.00   \n",
       "\n",
       "   Unit_Price Age_Group  Total_Cost  Total_Revenue  Profit/Loss Profit_Loss  \n",
       "0      109.00     youth       80.00         109.00        29.00      Profit  \n",
       "1       28.50     youth       49.00          57.00         8.00      Profit  \n",
       "2        5.00     youth       11.01          15.00         3.99      Profit  \n",
       "3      116.50     youth      175.00         233.00        58.00      Profit  \n",
       "4       41.67     youth      105.00         125.01        20.01      Profit  "
      ]
     },
     "execution_count": 45,
     "metadata": {},
     "output_type": "execute_result"
    }
   ],
   "source": [
    "#Create a new column and categorize Profit/Loss\n",
    "#Less than 0 = Loss\n",
    "#Greater than 0 = Profit\n",
    "\n",
    "\n",
    "data['Profit_Loss'] = ''\n",
    "\n",
    "data.loc[data['Profit/Loss'] > 0,'Profit_Loss'] = 'Profit'\n",
    "data.loc[data['Profit/Loss'] < 0, 'Profit_Loss'] = 'Loss'\n",
    "\n",
    "\n",
    "data.head()"
   ]
  },
  {
   "cell_type": "markdown",
   "id": "ea8af281",
   "metadata": {},
   "source": [
    "### Data Visualization\n",
    "\n",
    "* Use a pie chart to visualize customer. What customer is the highest?\n",
    "* Use the bar chart to visualize Salesperson. Which salesperson is highest?\n",
    "* Use the column chart to visualize customer age bracket. Which category is the highest?\n",
    "* Use the bar chart to visualize State. Which State is the highest?\n",
    "* Use the pie chart to visualize product. Which product is the highest?\n",
    "* Use the bar chart to visualize Sub_category. Which Sub_category is the highest?\n",
    "* Use the column chart to visualize profit/Loss. Which is the highest?"
   ]
  },
  {
   "cell_type": "code",
   "execution_count": 46,
   "id": "bb0c957b",
   "metadata": {},
   "outputs": [
    {
     "data": {
      "text/html": [
       "<div>\n",
       "<style scoped>\n",
       "    .dataframe tbody tr th:only-of-type {\n",
       "        vertical-align: middle;\n",
       "    }\n",
       "\n",
       "    .dataframe tbody tr th {\n",
       "        vertical-align: top;\n",
       "    }\n",
       "\n",
       "    .dataframe thead th {\n",
       "        text-align: right;\n",
       "    }\n",
       "</style>\n",
       "<table border=\"1\" class=\"dataframe\">\n",
       "  <thead>\n",
       "    <tr style=\"text-align: right;\">\n",
       "      <th></th>\n",
       "      <th>Date</th>\n",
       "      <th>Customer</th>\n",
       "      <th>Sales Person</th>\n",
       "      <th>Customer_Age</th>\n",
       "      <th>Customer_Gender</th>\n",
       "      <th>State</th>\n",
       "      <th>Product_Category</th>\n",
       "      <th>Sub_Category</th>\n",
       "      <th>Payment Option</th>\n",
       "      <th>Quantity</th>\n",
       "      <th>Unit_Cost</th>\n",
       "      <th>Unit_Price</th>\n",
       "      <th>Age_Group</th>\n",
       "      <th>Total_Cost</th>\n",
       "      <th>Total_Revenue</th>\n",
       "      <th>Profit/Loss</th>\n",
       "      <th>Profit_Loss</th>\n",
       "    </tr>\n",
       "  </thead>\n",
       "  <tbody>\n",
       "    <tr>\n",
       "      <th>0</th>\n",
       "      <td>19-Feb-16</td>\n",
       "      <td>High</td>\n",
       "      <td>Segun</td>\n",
       "      <td>29</td>\n",
       "      <td>F</td>\n",
       "      <td>Abia</td>\n",
       "      <td>Accessories</td>\n",
       "      <td>Keyboard</td>\n",
       "      <td>Online</td>\n",
       "      <td>1.0</td>\n",
       "      <td>80.00</td>\n",
       "      <td>109.00</td>\n",
       "      <td>youth</td>\n",
       "      <td>80.00</td>\n",
       "      <td>109.00</td>\n",
       "      <td>29.00</td>\n",
       "      <td>Profit</td>\n",
       "    </tr>\n",
       "    <tr>\n",
       "      <th>1</th>\n",
       "      <td>20-Feb-16</td>\n",
       "      <td>High</td>\n",
       "      <td>Segun</td>\n",
       "      <td>29</td>\n",
       "      <td>F</td>\n",
       "      <td>Abia</td>\n",
       "      <td>Clothing</td>\n",
       "      <td>Polo shirts</td>\n",
       "      <td>Online</td>\n",
       "      <td>2.0</td>\n",
       "      <td>24.50</td>\n",
       "      <td>28.50</td>\n",
       "      <td>youth</td>\n",
       "      <td>49.00</td>\n",
       "      <td>57.00</td>\n",
       "      <td>8.00</td>\n",
       "      <td>Profit</td>\n",
       "    </tr>\n",
       "    <tr>\n",
       "      <th>2</th>\n",
       "      <td>27-Feb-16</td>\n",
       "      <td>High</td>\n",
       "      <td>Segun</td>\n",
       "      <td>29</td>\n",
       "      <td>F</td>\n",
       "      <td>Abia</td>\n",
       "      <td>Accessories</td>\n",
       "      <td>Keyboard</td>\n",
       "      <td>Online</td>\n",
       "      <td>3.0</td>\n",
       "      <td>3.67</td>\n",
       "      <td>5.00</td>\n",
       "      <td>youth</td>\n",
       "      <td>11.01</td>\n",
       "      <td>15.00</td>\n",
       "      <td>3.99</td>\n",
       "      <td>Profit</td>\n",
       "    </tr>\n",
       "    <tr>\n",
       "      <th>3</th>\n",
       "      <td>12-Mar-16</td>\n",
       "      <td>High</td>\n",
       "      <td>Segun</td>\n",
       "      <td>29</td>\n",
       "      <td>F</td>\n",
       "      <td>Abia</td>\n",
       "      <td>Accessories</td>\n",
       "      <td>Keyboard</td>\n",
       "      <td>Online</td>\n",
       "      <td>2.0</td>\n",
       "      <td>87.50</td>\n",
       "      <td>116.50</td>\n",
       "      <td>youth</td>\n",
       "      <td>175.00</td>\n",
       "      <td>233.00</td>\n",
       "      <td>58.00</td>\n",
       "      <td>Profit</td>\n",
       "    </tr>\n",
       "    <tr>\n",
       "      <th>4</th>\n",
       "      <td>12-Mar-16</td>\n",
       "      <td>High</td>\n",
       "      <td>Segun</td>\n",
       "      <td>29</td>\n",
       "      <td>F</td>\n",
       "      <td>Abia</td>\n",
       "      <td>Accessories</td>\n",
       "      <td>Keyboard</td>\n",
       "      <td>Online</td>\n",
       "      <td>3.0</td>\n",
       "      <td>35.00</td>\n",
       "      <td>41.67</td>\n",
       "      <td>youth</td>\n",
       "      <td>105.00</td>\n",
       "      <td>125.01</td>\n",
       "      <td>20.01</td>\n",
       "      <td>Profit</td>\n",
       "    </tr>\n",
       "  </tbody>\n",
       "</table>\n",
       "</div>"
      ],
      "text/plain": [
       "        Date Customer Sales Person  Customer_Age Customer_Gender State  \\\n",
       "0  19-Feb-16     High        Segun            29               F  Abia   \n",
       "1  20-Feb-16     High        Segun            29               F  Abia   \n",
       "2  27-Feb-16     High        Segun            29               F  Abia   \n",
       "3  12-Mar-16     High        Segun            29               F  Abia   \n",
       "4  12-Mar-16     High        Segun            29               F  Abia   \n",
       "\n",
       "  Product_Category Sub_Category Payment Option  Quantity  Unit_Cost  \\\n",
       "0      Accessories     Keyboard         Online       1.0      80.00   \n",
       "1         Clothing  Polo shirts         Online       2.0      24.50   \n",
       "2      Accessories     Keyboard         Online       3.0       3.67   \n",
       "3      Accessories     Keyboard         Online       2.0      87.50   \n",
       "4      Accessories     Keyboard         Online       3.0      35.00   \n",
       "\n",
       "   Unit_Price Age_Group  Total_Cost  Total_Revenue  Profit/Loss Profit_Loss  \n",
       "0      109.00     youth       80.00         109.00        29.00      Profit  \n",
       "1       28.50     youth       49.00          57.00         8.00      Profit  \n",
       "2        5.00     youth       11.01          15.00         3.99      Profit  \n",
       "3      116.50     youth      175.00         233.00        58.00      Profit  \n",
       "4       41.67     youth      105.00         125.01        20.01      Profit  "
      ]
     },
     "execution_count": 46,
     "metadata": {},
     "output_type": "execute_result"
    }
   ],
   "source": [
    "data.head()"
   ]
  },
  {
   "cell_type": "code",
   "execution_count": 47,
   "id": "ffb5055d",
   "metadata": {},
   "outputs": [
    {
     "data": {
      "text/html": [
       "<div>\n",
       "<style scoped>\n",
       "    .dataframe tbody tr th:only-of-type {\n",
       "        vertical-align: middle;\n",
       "    }\n",
       "\n",
       "    .dataframe tbody tr th {\n",
       "        vertical-align: top;\n",
       "    }\n",
       "\n",
       "    .dataframe thead th {\n",
       "        text-align: right;\n",
       "    }\n",
       "</style>\n",
       "<table border=\"1\" class=\"dataframe\">\n",
       "  <thead>\n",
       "    <tr style=\"text-align: right;\">\n",
       "      <th></th>\n",
       "      <th>Date</th>\n",
       "      <th>Customer</th>\n",
       "      <th>Sales Person</th>\n",
       "      <th>Customer_Age</th>\n",
       "      <th>Customer_Gender</th>\n",
       "      <th>State</th>\n",
       "      <th>Product_Category</th>\n",
       "      <th>Sub_Category</th>\n",
       "      <th>Payment Option</th>\n",
       "      <th>Quantity</th>\n",
       "      <th>Unit_Cost</th>\n",
       "      <th>Unit_Price</th>\n",
       "      <th>Age_Group</th>\n",
       "      <th>Total_Cost</th>\n",
       "      <th>Total_Revenue</th>\n",
       "      <th>Profit/Loss</th>\n",
       "      <th>Profit_Loss</th>\n",
       "    </tr>\n",
       "  </thead>\n",
       "  <tbody>\n",
       "    <tr>\n",
       "      <th>0</th>\n",
       "      <td>19-Feb-16</td>\n",
       "      <td>High</td>\n",
       "      <td>Segun</td>\n",
       "      <td>29</td>\n",
       "      <td>F</td>\n",
       "      <td>Abia</td>\n",
       "      <td>Accessories</td>\n",
       "      <td>Keyboard</td>\n",
       "      <td>Online</td>\n",
       "      <td>1.0</td>\n",
       "      <td>80.00</td>\n",
       "      <td>109.00</td>\n",
       "      <td>youth</td>\n",
       "      <td>80.00</td>\n",
       "      <td>109.00</td>\n",
       "      <td>29.00</td>\n",
       "      <td>Profit</td>\n",
       "    </tr>\n",
       "    <tr>\n",
       "      <th>1</th>\n",
       "      <td>20-Feb-16</td>\n",
       "      <td>High</td>\n",
       "      <td>Segun</td>\n",
       "      <td>29</td>\n",
       "      <td>F</td>\n",
       "      <td>Abia</td>\n",
       "      <td>Clothing</td>\n",
       "      <td>Polo shirts</td>\n",
       "      <td>Online</td>\n",
       "      <td>2.0</td>\n",
       "      <td>24.50</td>\n",
       "      <td>28.50</td>\n",
       "      <td>youth</td>\n",
       "      <td>49.00</td>\n",
       "      <td>57.00</td>\n",
       "      <td>8.00</td>\n",
       "      <td>Profit</td>\n",
       "    </tr>\n",
       "    <tr>\n",
       "      <th>2</th>\n",
       "      <td>27-Feb-16</td>\n",
       "      <td>High</td>\n",
       "      <td>Segun</td>\n",
       "      <td>29</td>\n",
       "      <td>F</td>\n",
       "      <td>Abia</td>\n",
       "      <td>Accessories</td>\n",
       "      <td>Keyboard</td>\n",
       "      <td>Online</td>\n",
       "      <td>3.0</td>\n",
       "      <td>3.67</td>\n",
       "      <td>5.00</td>\n",
       "      <td>youth</td>\n",
       "      <td>11.01</td>\n",
       "      <td>15.00</td>\n",
       "      <td>3.99</td>\n",
       "      <td>Profit</td>\n",
       "    </tr>\n",
       "    <tr>\n",
       "      <th>3</th>\n",
       "      <td>12-Mar-16</td>\n",
       "      <td>High</td>\n",
       "      <td>Segun</td>\n",
       "      <td>29</td>\n",
       "      <td>F</td>\n",
       "      <td>Abia</td>\n",
       "      <td>Accessories</td>\n",
       "      <td>Keyboard</td>\n",
       "      <td>Online</td>\n",
       "      <td>2.0</td>\n",
       "      <td>87.50</td>\n",
       "      <td>116.50</td>\n",
       "      <td>youth</td>\n",
       "      <td>175.00</td>\n",
       "      <td>233.00</td>\n",
       "      <td>58.00</td>\n",
       "      <td>Profit</td>\n",
       "    </tr>\n",
       "    <tr>\n",
       "      <th>4</th>\n",
       "      <td>12-Mar-16</td>\n",
       "      <td>High</td>\n",
       "      <td>Segun</td>\n",
       "      <td>29</td>\n",
       "      <td>F</td>\n",
       "      <td>Abia</td>\n",
       "      <td>Accessories</td>\n",
       "      <td>Keyboard</td>\n",
       "      <td>Online</td>\n",
       "      <td>3.0</td>\n",
       "      <td>35.00</td>\n",
       "      <td>41.67</td>\n",
       "      <td>youth</td>\n",
       "      <td>105.00</td>\n",
       "      <td>125.01</td>\n",
       "      <td>20.01</td>\n",
       "      <td>Profit</td>\n",
       "    </tr>\n",
       "  </tbody>\n",
       "</table>\n",
       "</div>"
      ],
      "text/plain": [
       "        Date Customer Sales Person  Customer_Age Customer_Gender State  \\\n",
       "0  19-Feb-16     High        Segun            29               F  Abia   \n",
       "1  20-Feb-16     High        Segun            29               F  Abia   \n",
       "2  27-Feb-16     High        Segun            29               F  Abia   \n",
       "3  12-Mar-16     High        Segun            29               F  Abia   \n",
       "4  12-Mar-16     High        Segun            29               F  Abia   \n",
       "\n",
       "  Product_Category Sub_Category Payment Option  Quantity  Unit_Cost  \\\n",
       "0      Accessories     Keyboard         Online       1.0      80.00   \n",
       "1         Clothing  Polo shirts         Online       2.0      24.50   \n",
       "2      Accessories     Keyboard         Online       3.0       3.67   \n",
       "3      Accessories     Keyboard         Online       2.0      87.50   \n",
       "4      Accessories     Keyboard         Online       3.0      35.00   \n",
       "\n",
       "   Unit_Price Age_Group  Total_Cost  Total_Revenue  Profit/Loss Profit_Loss  \n",
       "0      109.00     youth       80.00         109.00        29.00      Profit  \n",
       "1       28.50     youth       49.00          57.00         8.00      Profit  \n",
       "2        5.00     youth       11.01          15.00         3.99      Profit  \n",
       "3      116.50     youth      175.00         233.00        58.00      Profit  \n",
       "4       41.67     youth      105.00         125.01        20.01      Profit  "
      ]
     },
     "execution_count": 47,
     "metadata": {},
     "output_type": "execute_result"
    }
   ],
   "source": [
    "#replacing a value in customer column\n",
    "\n",
    "data['Customer'] = data['Customer'].replace(['Hign'],'High')\n",
    "\n",
    "data.head()"
   ]
  },
  {
   "cell_type": "code",
   "execution_count": 48,
   "id": "a0c68acb",
   "metadata": {},
   "outputs": [
    {
     "data": {
      "image/png": "[encoded data removed]",
      "text/plain": [
       "<Figure size 360x360 with 1 Axes>"
      ]
     },
     "metadata": {},
     "output_type": "display_data"
    }
   ],
   "source": [
    "#using pie chart,Use a pie chart to visualize customer. What customer is the highest?\n",
    "\n",
    "customer = data.groupby('Customer').Customer.count().sort_values(ascending=False)\n",
    "\n",
    "\n",
    "plt.figure(figsize=(5,5))\n",
    "plt.pie(customer,labels=customer.index)\n",
    "\n",
    "plt.title('Customer By Count',\n",
    "             loc ='left', )\n",
    "plt.show()\n",
    "\n"
   ]
  },
  {
   "cell_type": "markdown",
   "id": "de6c49cc",
   "metadata": {},
   "source": [
    "#### The medium cutomers are the highest"
   ]
  },
  {
   "cell_type": "code",
   "execution_count": 49,
   "id": "d992cd1f",
   "metadata": {},
   "outputs": [
    {
     "data": {
      "text/html": [
       "<div>\n",
       "<style scoped>\n",
       "    .dataframe tbody tr th:only-of-type {\n",
       "        vertical-align: middle;\n",
       "    }\n",
       "\n",
       "    .dataframe tbody tr th {\n",
       "        vertical-align: top;\n",
       "    }\n",
       "\n",
       "    .dataframe thead th {\n",
       "        text-align: right;\n",
       "    }\n",
       "</style>\n",
       "<table border=\"1\" class=\"dataframe\">\n",
       "  <thead>\n",
       "    <tr style=\"text-align: right;\">\n",
       "      <th></th>\n",
       "      <th>Date</th>\n",
       "      <th>Customer</th>\n",
       "      <th>Sales_Person</th>\n",
       "      <th>Customer_Age</th>\n",
       "      <th>Customer_Gender</th>\n",
       "      <th>State</th>\n",
       "      <th>Product_Category</th>\n",
       "      <th>Sub_Category</th>\n",
       "      <th>Payment_Option</th>\n",
       "      <th>Quantity</th>\n",
       "      <th>Unit_Cost</th>\n",
       "      <th>Unit_Price</th>\n",
       "      <th>Age_Group</th>\n",
       "      <th>Total_Cost</th>\n",
       "      <th>Total_Revenue</th>\n",
       "      <th>Profit/Loss</th>\n",
       "      <th>Profit_Loss</th>\n",
       "    </tr>\n",
       "  </thead>\n",
       "  <tbody>\n",
       "    <tr>\n",
       "      <th>0</th>\n",
       "      <td>19-Feb-16</td>\n",
       "      <td>High</td>\n",
       "      <td>Segun</td>\n",
       "      <td>29</td>\n",
       "      <td>F</td>\n",
       "      <td>Abia</td>\n",
       "      <td>Accessories</td>\n",
       "      <td>Keyboard</td>\n",
       "      <td>Online</td>\n",
       "      <td>1.0</td>\n",
       "      <td>80.00</td>\n",
       "      <td>109.00</td>\n",
       "      <td>youth</td>\n",
       "      <td>80.00</td>\n",
       "      <td>109.00</td>\n",
       "      <td>29.00</td>\n",
       "      <td>Profit</td>\n",
       "    </tr>\n",
       "    <tr>\n",
       "      <th>1</th>\n",
       "      <td>20-Feb-16</td>\n",
       "      <td>High</td>\n",
       "      <td>Segun</td>\n",
       "      <td>29</td>\n",
       "      <td>F</td>\n",
       "      <td>Abia</td>\n",
       "      <td>Clothing</td>\n",
       "      <td>Polo shirts</td>\n",
       "      <td>Online</td>\n",
       "      <td>2.0</td>\n",
       "      <td>24.50</td>\n",
       "      <td>28.50</td>\n",
       "      <td>youth</td>\n",
       "      <td>49.00</td>\n",
       "      <td>57.00</td>\n",
       "      <td>8.00</td>\n",
       "      <td>Profit</td>\n",
       "    </tr>\n",
       "    <tr>\n",
       "      <th>2</th>\n",
       "      <td>27-Feb-16</td>\n",
       "      <td>High</td>\n",
       "      <td>Segun</td>\n",
       "      <td>29</td>\n",
       "      <td>F</td>\n",
       "      <td>Abia</td>\n",
       "      <td>Accessories</td>\n",
       "      <td>Keyboard</td>\n",
       "      <td>Online</td>\n",
       "      <td>3.0</td>\n",
       "      <td>3.67</td>\n",
       "      <td>5.00</td>\n",
       "      <td>youth</td>\n",
       "      <td>11.01</td>\n",
       "      <td>15.00</td>\n",
       "      <td>3.99</td>\n",
       "      <td>Profit</td>\n",
       "    </tr>\n",
       "    <tr>\n",
       "      <th>3</th>\n",
       "      <td>12-Mar-16</td>\n",
       "      <td>High</td>\n",
       "      <td>Segun</td>\n",
       "      <td>29</td>\n",
       "      <td>F</td>\n",
       "      <td>Abia</td>\n",
       "      <td>Accessories</td>\n",
       "      <td>Keyboard</td>\n",
       "      <td>Online</td>\n",
       "      <td>2.0</td>\n",
       "      <td>87.50</td>\n",
       "      <td>116.50</td>\n",
       "      <td>youth</td>\n",
       "      <td>175.00</td>\n",
       "      <td>233.00</td>\n",
       "      <td>58.00</td>\n",
       "      <td>Profit</td>\n",
       "    </tr>\n",
       "    <tr>\n",
       "      <th>4</th>\n",
       "      <td>12-Mar-16</td>\n",
       "      <td>High</td>\n",
       "      <td>Segun</td>\n",
       "      <td>29</td>\n",
       "      <td>F</td>\n",
       "      <td>Abia</td>\n",
       "      <td>Accessories</td>\n",
       "      <td>Keyboard</td>\n",
       "      <td>Online</td>\n",
       "      <td>3.0</td>\n",
       "      <td>35.00</td>\n",
       "      <td>41.67</td>\n",
       "      <td>youth</td>\n",
       "      <td>105.00</td>\n",
       "      <td>125.01</td>\n",
       "      <td>20.01</td>\n",
       "      <td>Profit</td>\n",
       "    </tr>\n",
       "    <tr>\n",
       "      <th>...</th>\n",
       "      <td>...</td>\n",
       "      <td>...</td>\n",
       "      <td>...</td>\n",
       "      <td>...</td>\n",
       "      <td>...</td>\n",
       "      <td>...</td>\n",
       "      <td>...</td>\n",
       "      <td>...</td>\n",
       "      <td>...</td>\n",
       "      <td>...</td>\n",
       "      <td>...</td>\n",
       "      <td>...</td>\n",
       "      <td>...</td>\n",
       "      <td>...</td>\n",
       "      <td>...</td>\n",
       "      <td>...</td>\n",
       "      <td>...</td>\n",
       "    </tr>\n",
       "    <tr>\n",
       "      <th>34862</th>\n",
       "      <td>07-Feb-16</td>\n",
       "      <td>High</td>\n",
       "      <td>Kenny</td>\n",
       "      <td>38</td>\n",
       "      <td>M</td>\n",
       "      <td>Ebonyi</td>\n",
       "      <td>Phones</td>\n",
       "      <td>IPhone</td>\n",
       "      <td>Online</td>\n",
       "      <td>2.0</td>\n",
       "      <td>1160.00</td>\n",
       "      <td>985.50</td>\n",
       "      <td>adult</td>\n",
       "      <td>2320.00</td>\n",
       "      <td>1971.00</td>\n",
       "      <td>-349.00</td>\n",
       "      <td>Loss</td>\n",
       "    </tr>\n",
       "    <tr>\n",
       "      <th>34863</th>\n",
       "      <td>13-Mar-15</td>\n",
       "      <td>High</td>\n",
       "      <td>Kenny</td>\n",
       "      <td>38</td>\n",
       "      <td>M</td>\n",
       "      <td>Ebonyi</td>\n",
       "      <td>Phones</td>\n",
       "      <td>IPhone</td>\n",
       "      <td>Online</td>\n",
       "      <td>1.0</td>\n",
       "      <td>2049.00</td>\n",
       "      <td>1583.00</td>\n",
       "      <td>adult</td>\n",
       "      <td>2049.00</td>\n",
       "      <td>1583.00</td>\n",
       "      <td>-466.00</td>\n",
       "      <td>Loss</td>\n",
       "    </tr>\n",
       "    <tr>\n",
       "      <th>34864</th>\n",
       "      <td>05-Apr-15</td>\n",
       "      <td>High</td>\n",
       "      <td>Kenny</td>\n",
       "      <td>38</td>\n",
       "      <td>M</td>\n",
       "      <td>Ebonyi</td>\n",
       "      <td>Phones</td>\n",
       "      <td>IPhone</td>\n",
       "      <td>Online</td>\n",
       "      <td>3.0</td>\n",
       "      <td>683.00</td>\n",
       "      <td>560.67</td>\n",
       "      <td>adult</td>\n",
       "      <td>2049.00</td>\n",
       "      <td>1682.01</td>\n",
       "      <td>-366.99</td>\n",
       "      <td>Loss</td>\n",
       "    </tr>\n",
       "    <tr>\n",
       "      <th>34865</th>\n",
       "      <td>30-Aug-15</td>\n",
       "      <td>High</td>\n",
       "      <td>Kenny</td>\n",
       "      <td>38</td>\n",
       "      <td>M</td>\n",
       "      <td>Ebonyi</td>\n",
       "      <td>Phones</td>\n",
       "      <td>IPhone</td>\n",
       "      <td>Online</td>\n",
       "      <td>1.0</td>\n",
       "      <td>2320.00</td>\n",
       "      <td>1568.00</td>\n",
       "      <td>adult</td>\n",
       "      <td>2320.00</td>\n",
       "      <td>1568.00</td>\n",
       "      <td>-752.00</td>\n",
       "      <td>Loss</td>\n",
       "    </tr>\n",
       "    <tr>\n",
       "      <th>34866</th>\n",
       "      <td>NaN</td>\n",
       "      <td>NaN</td>\n",
       "      <td>NaN</td>\n",
       "      <td>38</td>\n",
       "      <td>NaN</td>\n",
       "      <td>NaN</td>\n",
       "      <td>NaN</td>\n",
       "      <td>NaN</td>\n",
       "      <td>NaN</td>\n",
       "      <td>NaN</td>\n",
       "      <td>NaN</td>\n",
       "      <td>NaN</td>\n",
       "      <td>adult</td>\n",
       "      <td>NaN</td>\n",
       "      <td>NaN</td>\n",
       "      <td>NaN</td>\n",
       "      <td></td>\n",
       "    </tr>\n",
       "  </tbody>\n",
       "</table>\n",
       "<p>34867 rows × 17 columns</p>\n",
       "</div>"
      ],
      "text/plain": [
       "            Date Customer Sales_Person  Customer_Age Customer_Gender   State  \\\n",
       "0      19-Feb-16     High        Segun            29               F    Abia   \n",
       "1      20-Feb-16     High        Segun            29               F    Abia   \n",
       "2      27-Feb-16     High        Segun            29               F    Abia   \n",
       "3      12-Mar-16     High        Segun            29               F    Abia   \n",
       "4      12-Mar-16     High        Segun            29               F    Abia   \n",
       "...          ...      ...          ...           ...             ...     ...   \n",
       "34862  07-Feb-16     High        Kenny            38               M  Ebonyi   \n",
       "34863  13-Mar-15     High        Kenny            38               M  Ebonyi   \n",
       "34864  05-Apr-15     High        Kenny            38               M  Ebonyi   \n",
       "34865  30-Aug-15     High        Kenny            38               M  Ebonyi   \n",
       "34866        NaN      NaN          NaN            38             NaN     NaN   \n",
       "\n",
       "      Product_Category Sub_Category Payment_Option  Quantity  Unit_Cost  \\\n",
       "0          Accessories     Keyboard         Online       1.0      80.00   \n",
       "1             Clothing  Polo shirts         Online       2.0      24.50   \n",
       "2          Accessories     Keyboard         Online       3.0       3.67   \n",
       "3          Accessories     Keyboard         Online       2.0      87.50   \n",
       "4          Accessories     Keyboard         Online       3.0      35.00   \n",
       "...                ...          ...            ...       ...        ...   \n",
       "34862           Phones       IPhone         Online       2.0    1160.00   \n",
       "34863           Phones       IPhone         Online       1.0    2049.00   \n",
       "34864           Phones       IPhone         Online       3.0     683.00   \n",
       "34865           Phones       IPhone         Online       1.0    2320.00   \n",
       "34866              NaN          NaN            NaN       NaN        NaN   \n",
       "\n",
       "       Unit_Price Age_Group  Total_Cost  Total_Revenue  Profit/Loss  \\\n",
       "0          109.00     youth       80.00         109.00        29.00   \n",
       "1           28.50     youth       49.00          57.00         8.00   \n",
       "2            5.00     youth       11.01          15.00         3.99   \n",
       "3          116.50     youth      175.00         233.00        58.00   \n",
       "4           41.67     youth      105.00         125.01        20.01   \n",
       "...           ...       ...         ...            ...          ...   \n",
       "34862      985.50     adult     2320.00        1971.00      -349.00   \n",
       "34863     1583.00     adult     2049.00        1583.00      -466.00   \n",
       "34864      560.67     adult     2049.00        1682.01      -366.99   \n",
       "34865     1568.00     adult     2320.00        1568.00      -752.00   \n",
       "34866         NaN     adult         NaN            NaN          NaN   \n",
       "\n",
       "      Profit_Loss  \n",
       "0          Profit  \n",
       "1          Profit  \n",
       "2          Profit  \n",
       "3          Profit  \n",
       "4          Profit  \n",
       "...           ...  \n",
       "34862        Loss  \n",
       "34863        Loss  \n",
       "34864        Loss  \n",
       "34865        Loss  \n",
       "34866              \n",
       "\n",
       "[34867 rows x 17 columns]"
      ]
     },
     "execution_count": 49,
     "metadata": {},
     "output_type": "execute_result"
    }
   ],
   "source": [
    "#renaming some column names\n",
    "\n",
    "data.rename(columns = {'Sales Person':'Sales_Person', 'Payment Option':'Payment_Option'}, inplace = True)\n",
    "\n",
    "\n",
    "data"
   ]
  },
  {
   "cell_type": "code",
   "execution_count": 76,
   "id": "b4189edc",
   "metadata": {},
   "outputs": [
    {
     "data": {
      "image/png": "[encoded data removed]",
      "text/plain": [
       "<Figure size 432x288 with 1 Axes>"
      ]
     },
     "metadata": {
      "needs_background": "light"
     },
     "output_type": "display_data"
    }
   ],
   "source": [
    "#Use the bar chart to visualize Salesperson. Which salesperson is highest?\n",
    "\n",
    "\n",
    "sales_person = data.groupby('Sales_Person').Sales_Person.count().sort_values(ascending=False)\n",
    "\n",
    "plt.bar(x=sales_person.index[:10], height=sales_person)\n",
    "\n",
    "\n",
    "plt.xlabel('sales_person')\n",
    "plt.ylabel('count_sales_person')\n",
    "plt.title('Sales By Count',\n",
    "             loc ='left', )\n",
    "\n",
    "plt.show()"
   ]
  },
  {
   "cell_type": "markdown",
   "id": "90b24b11",
   "metadata": {},
   "source": [
    "#### Remota is the highest salesperson"
   ]
  },
  {
   "cell_type": "code",
   "execution_count": 75,
   "id": "f4104f7f",
   "metadata": {},
   "outputs": [
    {
     "data": {
      "image/png": "[encoded data removed]",
      "text/plain": [
       "<Figure size 432x288 with 1 Axes>"
      ]
     },
     "metadata": {
      "needs_background": "light"
     },
     "output_type": "display_data"
    }
   ],
   "source": [
    "#Use the column chart to visualize customer age bracket. Which category is the highest?\n",
    "\n",
    "customer_age =data.groupby('Age_Group')['Age_Group'].count().sort_values(ascending=True)\n",
    "customer_age\n",
    "\n",
    "plt.title('customer_age',\n",
    "             loc ='left', )\n",
    "plt.barh(y=customer_age.index, width=customer_age, color='orange')\n",
    "\n",
    "plt.show()"
   ]
  },
  {
   "cell_type": "markdown",
   "id": "5756b8c4",
   "metadata": {},
   "source": [
    "#### The elder group are the highest"
   ]
  },
  {
   "cell_type": "code",
   "execution_count": 64,
   "id": "d5f645e8",
   "metadata": {},
   "outputs": [
    {
     "data": {
      "image/png": "[encoded data removed]",
      "text/plain": [
       "<Figure size 432x288 with 1 Axes>"
      ]
     },
     "metadata": {
      "needs_background": "light"
     },
     "output_type": "display_data"
    }
   ],
   "source": [
    "# Use the bar chart to visualize State. Which State is the highest?\n",
    "\n",
    "state = data.groupby('State').State.count().sort_values(ascending=False)[:5]\n",
    "\n",
    "plt.bar(x=state.index[:5], height=state[:5])\n",
    "\n",
    "\n",
    "plt.xlabel('state')\n",
    "plt.ylabel('count_state')\n",
    "\n",
    "plt.title('State By Count',\n",
    "             loc ='left', )\n",
    "\n",
    "plt.show()"
   ]
  },
  {
   "cell_type": "markdown",
   "id": "7f4cfa84",
   "metadata": {},
   "source": [
    "#### Lagos has the highest"
   ]
  },
  {
   "cell_type": "code",
   "execution_count": 63,
   "id": "ecc8bf1e",
   "metadata": {},
   "outputs": [
    {
     "data": {
      "image/png": "[encoded data removed]",
      "text/plain": [
       "<Figure size 360x360 with 1 Axes>"
      ]
     },
     "metadata": {},
     "output_type": "display_data"
    }
   ],
   "source": [
    "#Use the pie chart to visualize product. Which product is the highest?\n",
    "\n",
    "\n",
    "pdts = data.groupby('Product_Category').Product_Category.count().sort_values(ascending=False)\n",
    "\n",
    "\n",
    "plt.figure(figsize=(5,5))\n",
    "plt.pie(pdts,labels=pdts.index)\n",
    "\n",
    "plt.title('Products By Count',\n",
    "             loc ='left', )\n",
    "plt.show()\n",
    "\n"
   ]
  },
  {
   "cell_type": "markdown",
   "id": "e912efe4",
   "metadata": {},
   "source": [
    "#### Accessories has the highest"
   ]
  },
  {
   "cell_type": "code",
   "execution_count": 74,
   "id": "4a9b5ad3",
   "metadata": {},
   "outputs": [
    {
     "data": {
      "image/png": "[encoded data removed]",
      "text/plain": [
       "<Figure size 432x288 with 1 Axes>"
      ]
     },
     "metadata": {
      "needs_background": "light"
     },
     "output_type": "display_data"
    }
   ],
   "source": [
    "# Use the bar chart to visualize Sub_category. Which Sub_category is the highest?\n",
    "\n",
    "Sub_Catg =data.groupby('Sub_Category')['Sub_Category'].count().sort_values(ascending=False)[:5]\n",
    "customer_age\n",
    "\n",
    "\n",
    "\n",
    "Sub_Catg = data.groupby('Sub_Category').Sub_Category.count().sort_values(ascending=False)[:5]\n",
    "\n",
    "plt.bar(x=Sub_Catg .index[:5], height=Sub_Catg [:5])\n",
    "\n",
    "\n",
    "plt.xlabel('Sub_Catg ')\n",
    "plt.ylabel('Count_Sub_Category')\n",
    "plt.title('Subcategory By Count',\n",
    "             loc ='left', )\n",
    "\n",
    "plt.show()"
   ]
  },
  {
   "cell_type": "markdown",
   "id": "4bca1a77",
   "metadata": {},
   "source": [
    "#### Keyboard has the highest sub categories"
   ]
  },
  {
   "cell_type": "code",
   "execution_count": 72,
   "id": "dbc32f31",
   "metadata": {},
   "outputs": [
    {
     "data": {
      "image/png": "[encoded data removed]",
      "text/plain": [
       "<Figure size 432x288 with 1 Axes>"
      ]
     },
     "metadata": {
      "needs_background": "light"
     },
     "output_type": "display_data"
    }
   ],
   "source": [
    "# Use the column chart to visualize profit/Loss. Which is the highest?\n",
    "\n",
    "P_L =data.groupby('Profit_Loss')['Profit_Loss'].count().sort_values(ascending=False)\n",
    "customer_age\n",
    "\n",
    "plt.title('Profit/Loss',\n",
    "             loc ='left', )\n",
    "plt.barh(y=P_L .index, width=P_L , color='green')\n",
    "plt.title('Profit/loss By Count',\n",
    "             loc ='left', )\n",
    "plt.show()"
   ]
  },
  {
   "cell_type": "markdown",
   "id": "0afe5502",
   "metadata": {},
   "source": [
    "### Data Analytics\n",
    "\n",
    "* Which Salesperson generated the most profit?\n",
    "* Which gender generates the most profit?\n",
    "* Which State generates the most profit\n",
    "* What product generates the most profit?\n",
    "* What payment option generates the most profit?"
   ]
  },
  {
   "cell_type": "code",
   "execution_count": 71,
   "id": "37bb7f29",
   "metadata": {},
   "outputs": [
    {
     "data": {
      "image/png": "[encoded data removed]",
      "text/plain": [
       "<Figure size 432x288 with 1 Axes>"
      ]
     },
     "metadata": {
      "needs_background": "light"
     },
     "output_type": "display_data"
    }
   ],
   "source": [
    "#Which Salesperson generated the most profit?\n",
    "\n",
    "salesper = data.groupby('Sales_Person')['Profit/Loss'].sum().sort_values(ascending=True)\n",
    "\n",
    "plt.barh(y=salesper.index, width=salesper)\n",
    "\n",
    "plt.title('Top Sales Person',\n",
    "             loc ='left', )\n",
    "plt.show()"
   ]
  },
  {
   "cell_type": "markdown",
   "id": "7677b88f",
   "metadata": {},
   "source": [
    "#### Feyisola made the most profit"
   ]
  },
  {
   "cell_type": "code",
   "execution_count": 57,
   "id": "d03180cf",
   "metadata": {},
   "outputs": [
    {
     "data": {
      "image/png": "[encoded data removed]",
      "text/plain": [
       "<Figure size 432x288 with 1 Axes>"
      ]
     },
     "metadata": {
      "needs_background": "light"
     },
     "output_type": "display_data"
    }
   ],
   "source": [
    "#Which gender generates the most profit?\n",
    "\n",
    "gend = data.groupby('Customer_Gender')['Profit/Loss'].sum().sort_values(ascending=True)\n",
    "\n",
    "\n",
    "plt.bar(x=gend .index[:5], height=gend )\n",
    "\n",
    "\n",
    "plt.xlabel('gender ')\n",
    "plt.ylabel('sum Profit/Loss')\n",
    "\n",
    "plt.title('Most Profitable By Gender',\n",
    "             loc ='right', )\n",
    "plt.show()"
   ]
  },
  {
   "cell_type": "markdown",
   "id": "ed070e7a",
   "metadata": {},
   "source": [
    "#### male are the most profitable gender"
   ]
  },
  {
   "cell_type": "code",
   "execution_count": 58,
   "id": "7793fd3c",
   "metadata": {},
   "outputs": [
    {
     "data": {
      "image/png": "[encoded data removed]",
      "text/plain": [
       "<Figure size 432x288 with 1 Axes>"
      ]
     },
     "metadata": {
      "needs_background": "light"
     },
     "output_type": "display_data"
    }
   ],
   "source": [
    "#Which State generates the most profit\n",
    "\n",
    "state_profit = data.groupby('State')['Profit/Loss'].sum().sort_values(ascending=False)\n",
    "\n",
    "plt.bar(x=state_profit.index[:5], height=state_profit[:5])\n",
    "\n",
    "\n",
    "plt.xlabel('state')\n",
    "plt.ylabel('sum profit/loss')\n",
    "\n",
    "plt.title('Most Profitable By State',\n",
    "             loc ='right', )\n",
    "\n",
    "plt.show()\n",
    "\n",
    "\n",
    "\n"
   ]
  },
  {
   "cell_type": "markdown",
   "id": "50fd8340",
   "metadata": {},
   "source": [
    "#### Lagos generates the most profit"
   ]
  },
  {
   "cell_type": "code",
   "execution_count": 59,
   "id": "d72b1ecc",
   "metadata": {},
   "outputs": [
    {
     "data": {
      "image/png": "[encoded data removed]",
      "text/plain": [
       "<Figure size 432x288 with 1 Axes>"
      ]
     },
     "metadata": {
      "needs_background": "light"
     },
     "output_type": "display_data"
    }
   ],
   "source": [
    "# What product generates the most profit?\n",
    "\n",
    "prdt = data.groupby('Product_Category')['Profit/Loss'].sum().sort_values(ascending=False)\n",
    "\n",
    "plt.barh(y=prdt.index, width=prdt)\n",
    "\n",
    "plt.title('Top Sales by Product',\n",
    "             loc ='left', )\n",
    "plt.show()"
   ]
  },
  {
   "cell_type": "markdown",
   "id": "ac9d0162",
   "metadata": {},
   "source": [
    "#### accessories has the most profit"
   ]
  },
  {
   "cell_type": "code",
   "execution_count": 60,
   "id": "76c53516",
   "metadata": {},
   "outputs": [
    {
     "data": {
      "image/png": "[encoded data removed]",
      "text/plain": [
       "<Figure size 432x288 with 1 Axes>"
      ]
     },
     "metadata": {
      "needs_background": "light"
     },
     "output_type": "display_data"
    }
   ],
   "source": [
    "# What payment option generates the most profit?\n",
    "\n",
    "paymt = data.groupby('Payment_Option')['Profit/Loss'].sum().sort_values(ascending=True)\n",
    "\n",
    "plt.bar(x=paymt.index[:5], height=paymt[:5])\n",
    "\n",
    "\n",
    "plt.xlabel('paymt')\n",
    "plt.ylabel('sum profit/loss')\n",
    "\n",
    "plt.title('Most Profitable By Payment',\n",
    "             loc ='right', )\n",
    "\n",
    "plt.show()\n"
   ]
  },
  {
   "cell_type": "markdown",
   "id": "64e5f981",
   "metadata": {},
   "source": [
    "#### cash payment method made the highest profit"
   ]
  },
  {
   "cell_type": "code",
   "execution_count": null,
   "id": "67af559d",
   "metadata": {},
   "outputs": [],
   "source": []
  }
 ],
 "metadata": {
  "kernelspec": {
   "display_name": "Python 3 (ipykernel)",
   "language": "python",
   "name": "python3"
  },
  "language_info": {
   "codemirror_mode": {
    "name": "ipython",
    "version": 3
   },
   "file_extension": ".py",
   "mimetype": "text/x-python",
   "name": "python",
   "nbconvert_exporter": "python",
   "pygments_lexer": "ipython3",
   "version": "3.9.12"
  }
 },
 "nbformat": 4,
 "nbformat_minor": 5
}
